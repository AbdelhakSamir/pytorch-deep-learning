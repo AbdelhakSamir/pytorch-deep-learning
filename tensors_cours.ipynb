{
 "cells": [
  {
   "cell_type": "markdown",
   "metadata": {},
   "source": [
    "# **📌 Introduction aux Tenseurs dans PyTorch 🚀**\n",
    "\n",
    "Bienvenue dans ce nouveau chapitre ! Aujourd’hui, on va parler des tenseurs, la base de tout en deep learning et en machine learning. Si vous voulez maîtriser PyTorch, vous devez comprendre les tenseurs !\n",
    "\n",
    "Un tenseur, c’est simplement une structure de données qui permet de représenter des informations sous forme numérique. Par exemple :\n",
    "\n",
    "Une image peut être représentée comme un tenseur de forme [3, 224, 224], où 3 représente les trois canaux de couleur (Rouge, Vert, Bleu), 224 la hauteur, et 224 la largeur.\n",
    "\n",
    "Un tableau de données peut être un tenseur de forme [N, M] où N est le nombre de lignes et M le nombre de colonnes.\n",
    "\n",
    "Un son peut être un tenseur 1D représentant l’amplitude des ondes sonores sur le temps.\n",
    "\n",
    "Bref, tout ce que vous traitez en machine learning peut être transformé en tenseur ! Maintenant, passons à la pratique."
   ]
  },
  {
   "cell_type": "code",
   "execution_count": null,
   "metadata": {},
   "outputs": [],
   "source": [
    "import torch"
   ]
  },
  {
   "cell_type": "markdown",
   "metadata": {},
   "source": [
    "**1️⃣ Le Scalaire (Tenseur 0D)**\n",
    "\n",
    "Un scalaire, c’est un seul nombre. En PyTorch, c’est un tenseur à 0 dimension :"
   ]
  },
  {
   "cell_type": "code",
   "execution_count": null,
   "metadata": {},
   "outputs": [],
   "source": []
  },
  {
   "cell_type": "code",
   "execution_count": null,
   "metadata": {},
   "outputs": [],
   "source": []
  },
  {
   "cell_type": "code",
   "execution_count": null,
   "metadata": {},
   "outputs": [],
   "source": []
  },
  {
   "cell_type": "markdown",
   "metadata": {},
   "source": [
    "**2️⃣ Le Vecteur (Tenseur 1D)**\n",
    "\n",
    "Un vecteur, c’est un ensemble de nombres alignés dans une seule dimension :"
   ]
  },
  {
   "cell_type": "code",
   "execution_count": null,
   "metadata": {},
   "outputs": [],
   "source": []
  },
  {
   "cell_type": "code",
   "execution_count": null,
   "metadata": {},
   "outputs": [],
   "source": []
  },
  {
   "cell_type": "code",
   "execution_count": null,
   "metadata": {},
   "outputs": [],
   "source": []
  },
  {
   "cell_type": "markdown",
   "metadata": {},
   "source": [
    "**3️⃣ La Matrice (Tenseur 2D)**\n",
    "\n",
    "Une matrice, c’est un tableau à 2 dimensions :"
   ]
  },
  {
   "cell_type": "code",
   "execution_count": null,
   "metadata": {},
   "outputs": [],
   "source": [
    "matrix = torch.tensor([[7, 8], [9, 10]])\n",
    "print(matrix)"
   ]
  },
  {
   "cell_type": "code",
   "execution_count": null,
   "metadata": {},
   "outputs": [],
   "source": [
    "print(matrix.ndim)  "
   ]
  },
  {
   "cell_type": "code",
   "execution_count": null,
   "metadata": {},
   "outputs": [],
   "source": [
    "print(matrix.shape) "
   ]
  },
  {
   "cell_type": "markdown",
   "metadata": {},
   "source": [
    "**4️⃣ Le Tenseur Général (Tenseur ND)**\n",
    "\n",
    "Un tenseur peut avoir plus de 2 dimensions ! Voici un exemple 3D :"
   ]
  },
  {
   "cell_type": "code",
   "execution_count": null,
   "metadata": {},
   "outputs": [],
   "source": [
    "tensor = torch.tensor([[[1, 2, 3], [3, 6, 9], [2, 4, 5]]])\n",
    "print(tensor)"
   ]
  },
  {
   "cell_type": "code",
   "execution_count": null,
   "metadata": {},
   "outputs": [],
   "source": [
    "print(tensor.ndim)  "
   ]
  },
  {
   "cell_type": "code",
   "execution_count": null,
   "metadata": {},
   "outputs": [],
   "source": [
    "print(tensor.shape)  "
   ]
  },
  {
   "cell_type": "markdown",
   "metadata": {},
   "source": [
    "**📌 Comment compter les dimensions d’un tenseur ?**\n",
    "\n",
    "Il y a une règle simple pour connaître le nombre de dimensions d’un tenseur en PyTorch :\n",
    "\n",
    "👉 Comptez les crochets [ les plus extérieurs !\n",
    "\n",
    "Exemple :"
   ]
  },
  {
   "cell_type": "code",
   "execution_count": null,
   "metadata": {},
   "outputs": [],
   "source": [
    "A = torch.tensor(3)  # Aucun crochet extérieur → 0D (scalaire)\n",
    "B = torch.tensor([3, 4, 5])  # 1 niveau de crochets → 1D (vecteur)\n",
    "C = torch.tensor([[3, 4, 5], [6, 7, 8]])  # 2 niveaux → 2D (matrice)\n",
    "D = torch.tensor([[[1, 2], [3, 4]], [[5, 6], [7, 8]]])  # 3 niveaux → 3D (tenseur)"
   ]
  },
  {
   "cell_type": "markdown",
   "metadata": {},
   "source": [
    "# 📌 Exemple détaillé : Comprendre le `shape` d'un tenseur en PyTorch\n",
    "\n",
    "Imaginons ce tenseur en notation mathématique :\n",
    "\n",
    "\\[\n",
    "TENSEUR =\n",
    "\\begin{bmatrix}\n",
    "\\begin{bmatrix} 1 & 2 & 3 \\\\ 4 & 5 & 6 \\end{bmatrix},  \n",
    "\\begin{bmatrix} 7 & 8 & 9 \\\\ 10 & 11 & 12 \\end{bmatrix}\n",
    "\\end{bmatrix}\n",
    "\\]\n",
    "\n",
    "### 🔹 Représentation en PyTorch\n"
   ]
  },
  {
   "cell_type": "code",
   "execution_count": null,
   "metadata": {},
   "outputs": [],
   "source": [
    "import torch\n",
    "TENSEUR = torch.tensor([\n",
    "    [[1, 2, 3], [4, 5, 6]],  \n",
    "    [[7, 8, 9], [10, 11, 12]]  \n",
    "])\n",
    "print(TENSEUR.shape)  # Résultat : torch.Size([2, 2, 3])\n"
   ]
  },
  {
   "cell_type": "markdown",
   "metadata": {},
   "source": [
    "**📌 Récapitulatif**\n",
    "\n",
    "| **Nom**      | **Définition**                                 | **Dimensions** | **Notation courante** |\n",
    "|-------------|----------------------------------------------|--------------|-----------------|\n",
    "| **Scalaire** | Un seul nombre                              | `0D`         | `a, x`          |\n",
    "| **Vecteur**  | Une liste de nombres                       | `1D`         | `y, b`          |\n",
    "| **Matrice**  | Un tableau avec plusieurs lignes et colonnes | `2D`         | `X, W`          |\n",
    "| **Tenseur**  | Un tableau multi-dimensionnel               | `ND`         | `T, Z`          |\n"
   ]
  },
  {
   "cell_type": "markdown",
   "metadata": {},
   "source": [
    "  **🎲 Création de Tenseurs Aléatoires**\n",
    "\n",
    " 🔥 **Pourquoi les tenseurs aléatoires sont-ils importants ?**  \n",
    " 📌 En deep learning, les modèles commencent avec des valeurs aléatoires qu'ils ajustent progressivement.\n",
    "\n",
    " 🏗 **Étapes du machine learning** :\n",
    " 1. **Démarrer avec des nombres aléatoires** 🔢\n",
    " 2. **Analyser les données** 📊\n",
    " 3. **Ajuster les nombres** 🔄\n",
    " 4. **Répéter jusqu'à l'optimisation !** 🔁\n",
    "\n",
    " ➡️ Créons nos premiers tenseurs aléatoires 🚀\n"
   ]
  },
  {
   "cell_type": "code",
   "execution_count": null,
   "metadata": {},
   "outputs": [],
   "source": [
    "# Création d'un tenseur aléatoire (3,4)\n",
    "random_tensor = torch.rand(size=(3, 4))\n",
    "random_tensor, random_tensor.dtype"
   ]
  },
  {
   "cell_type": "markdown",
   "metadata": {},
   "source": [
    "  **🖼 Tenseur représentant une image**\n",
    "\n",
    " 💡 On peut générer un tenseur avec une **forme typique d'image** `(224, 224, 3)`, où :\n",
    " - `224x224` représente la résolution\n",
    " - `3` correspond aux **canaux RGB**\n",
    "\n",
    " ➡️ **Testons ça !** 👇\n",
    "\n"
   ]
  },
  {
   "cell_type": "code",
   "execution_count": null,
   "metadata": {},
   "outputs": [],
   "source": [
    "random_image_tensor = torch.rand(size=(224, 224, 3))\n",
    "random_image_tensor.shape, random_image_tensor.ndim\n"
   ]
  },
  {
   "cell_type": "markdown",
   "metadata": {},
   "source": [
    "**🏗 Tenseurs de Zéros et de Uns**\n",
    "\n",
    " 📌 **Pourquoi utiliser des tenseurs remplis de 0 ou 1 ?**  \n",
    " ✅ Utile pour **masquer des valeurs**, créer des **masques binaires**, ou initialiser certains poids.\n",
    "\n",
    " ➡️ Créons des **matrices pleines de 0 et de 1** ! 🔥\n"
   ]
  },
  {
   "cell_type": "code",
   "execution_count": null,
   "metadata": {},
   "outputs": [],
   "source": [
    "zeros = torch.zeros(size=(3, 4))\n",
    "zeros, zeros.dtype"
   ]
  },
  {
   "cell_type": "code",
   "execution_count": null,
   "metadata": {},
   "outputs": [],
   "source": [
    "# %%\n",
    "# Tenseur de uns (3,4)\n",
    "ones = torch.ones(size=(3, 4))\n",
    "ones, ones.dtype\n"
   ]
  },
  {
   "cell_type": "markdown",
   "metadata": {},
   "source": [
    " **📈 Génération de Plages de Nombres**\n",
    "\n",
    " 🔢 **Besoin de générer une suite de nombres ?**  \n",
    " Utilisons **torch.arange()** pour créer des séquences en un clin d'œil ! ⏳\n"
   ]
  },
  {
   "cell_type": "code",
   "execution_count": null,
   "metadata": {},
   "outputs": [],
   "source": [
    "zero_to_ten = torch.arange(start=0, end=10, step=1)\n",
    "zero_to_ten\n"
   ]
  },
  {
   "cell_type": "markdown",
   "metadata": {},
   "source": [
    "  **🔥 Opérations sur les Tenseurs**\n",
    "\n",
    " 📌 **Manipuler les tenseurs = cœur du deep learning !**\n",
    "\n",
    " - ➕ Addition\n",
    " - ➖ Soustraction\n",
    " - ✖️ Multiplication\n",
    " - ➗ Division\n",
    "\n",
    " ➡️ **Testons ces opérations !** 👇"
   ]
  },
  {
   "cell_type": "code",
   "execution_count": null,
   "metadata": {},
   "outputs": [],
   "source": [
    "tensor = torch.tensor([1, 2, 3])\n",
    "\n",
    "# Addition\n",
    "tensor + 10"
   ]
  },
  {
   "cell_type": "code",
   "execution_count": null,
   "metadata": {},
   "outputs": [],
   "source": [
    "tensor * 10"
   ]
  },
  {
   "cell_type": "markdown",
   "metadata": {},
   "source": [
    "  **🏋️‍♂️ Multiplication Matricielle (Deep Learning)**\n",
    "\n",
    " **🔑 Règles de multiplication matricielle :**\n",
    "\n",
    " - **Les dimensions internes doivent correspondre** 🎯  \n",
    "   - `(3, 2) @ (3, 2)` ❌ (erreur)\n",
    "   - `(2, 3) @ (3, 2)` ✅ (ok)\n",
    "   - `(3, 2) @ (2, 3)` ✅ (ok)\n",
    "\n",
    " - **Le résultat a la forme des dimensions externes**  \n",
    "   - `(2, 3) @ (3, 2) → (2, 2)`\n",
    "   - `(3, 2) @ (2, 3) → (3, 3)`\n",
    "\n",
    " ➡️ **Passons à la pratique !** 🚀"
   ]
  },
  {
   "cell_type": "code",
   "execution_count": null,
   "metadata": {},
   "outputs": [],
   "source": [
    "mat1 = torch.rand(size=(2, 3))  # 2x3\n",
    "mat2 = torch.rand(size=(3, 2))  # 3x2\n",
    "\n",
    "# Multiplication matricielle\n",
    "matmul_result = torch.matmul(mat1, mat2)\n",
    "matmul_result\n"
   ]
  }
 ],
 "metadata": {
  "kernelspec": {
   "display_name": "Python 3",
   "language": "python",
   "name": "python3"
  },
  "language_info": {
   "codemirror_mode": {
    "name": "ipython",
    "version": 3
   },
   "file_extension": ".py",
   "mimetype": "text/x-python",
   "name": "python",
   "nbconvert_exporter": "python",
   "pygments_lexer": "ipython3",
   "version": "3.10.0"
  }
 },
 "nbformat": 4,
 "nbformat_minor": 2
}
