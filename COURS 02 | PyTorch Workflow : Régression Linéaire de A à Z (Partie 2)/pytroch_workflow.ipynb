{
  "cells": [
    {
      "cell_type": "markdown",
      "metadata": {
        "id": "z8QjGMQ2dIRf"
      },
      "source": [
        "# 01. Fondamentaux du Workflow PyTorch\n",
        "\n",
        "L'essence du maching learning et du depp learning est de prendre des données du passé, de construire un algorithme (comme un réseau de neurones) pour y découvrir des motifs, puis d'utiliser ces motifs découverts pour prédire l'avenir.\n",
        "\n",
        "Il existe de nombreuses façons de procéder et de nouvelles méthodes sont découvertes en permanence.\n",
        "\n",
        "Mais commençons petit.\n",
        "\n",
        "Que diriez-vous de commencer par une ligne droite ?\n",
        "\n",
        "Voyons si nous pouvons construire un modèle PyTorch qui apprend le motif de la ligne droite et l'ajuste.\n",
        "\n",
        "## Ce que nous allons couvrir\n",
        "\n",
        "Dans ce module, nous allons explorer un workflow standard de PyTorch (il peut être modifié selon les besoins, mais il couvre les principales étapes).\n",
        "\n",
        "Pour l'instant, nous utiliserons ce workflow pour prédire une simple ligne droite, mais les étapes du workflow peuvent être répétées et adaptées en fonction du problème traité.\n",
        "\n",
        "En détail, nous allons couvrir :\n",
        "\n",
        "| **Sujet** | **Contenu** |\n",
        "| ----- | ----- |\n",
        "| **1. Préparation des données** | Les données peuvent être presque n'importe quoi, mais pour commencer, nous allons créer une simple ligne droite. |\n",
        "| **2. Construction du modèle** | Nous allons créer un modèle pour apprendre les motifs des données, choisir une **fonction de perte**, un **optimiseur** et construire une **boucle d'entraînement**. |\n",
        "| **3. Entraînement du modèle** | Nous avons des données et un modèle, voyons si le modèle peut trouver des motifs dans les données d'entraînement. |\n",
        "| **4. Prédictions et évaluation du modèle** | Le modèle a trouvé des motifs dans les données, nous allons comparer ses résultats aux données de test. |\n",
        "| **5. Sauvegarde et chargement du modèle** | Il peut être utile d'enregistrer notre modèle pour une utilisation future. |\n",
        "| **6. Mise en œuvre complète** | Nous allons rassembler toutes les étapes précédentes et les combiner. |\n",
        "\n",
        "## Où obtenir de l'aide ?\n",
        "\n",
        "Tout le matériel de ce cours est [disponible sur GitHub](https://github.com/AbdelhakSamir/pytorch-deep-learning).\n",
        "\n",
        "Et si vous rencontrez un problème, vous pouvez poser les questions sur la [page Discussions](https://github.com/AbdelhakSamir/pytorch-deep-learning/discussions).\n",
        "\n",
        "Il y a aussi les [forums des développeurs PyTorch](https://discuss.pytorch.org/), un endroit très utile pour tout ce qui concerne PyTorch.\n",
        "\n",
        "Commençons par créer un dictionnaire contenant les étapes du workflow pour référence.\n",
        "\n"
      ]
    },
    {
      "cell_type": "code",
      "execution_count": null,
      "metadata": {
        "id": "MXUsrYdBdIRh"
      },
      "outputs": [],
      "source": [
        "what_were_covering = {\n",
        "    1: \"préparer et charger les données\",\n",
        "    2: \"construire le modèle\",\n",
        "    3: \"ajuster le modèle aux données (entraînement)\",\n",
        "    4: \"faire des prédictions et évaluer le modèle (inférence)\",\n",
        "    5: \"sauvegarder et charger un modèle\",\n",
        "    6: \"tout mettre ensemble\"\n",
        "}\n"
      ]
    },
    {
      "cell_type": "code",
      "execution_count": null,
      "metadata": {
        "id": "Oq94oruldIRh"
      },
      "outputs": [],
      "source": [
        "import torch\n",
        "from torch import nn\n",
        "import matplotlib.pyplot as plt"
      ]
    },
    {
      "cell_type": "markdown",
      "metadata": {
        "id": "LJx1MTgAdIRh"
      },
      "source": [
        "## 1. Données (préparation et chargement)\n",
        "\n",
        "Je veux insister sur le fait que les \"données\" en apprentissage automatique peuvent être presque tout ce que vous pouvez imaginer. Un tableau de nombres (comme un grand fichier Excel), des images de toutes sortes, des vidéos (YouTube regorge de données !), des fichiers audio comme des chansons ou des podcasts, des structures de protéines, du texte et bien plus encore.\n",
        "\n",
        "![L'apprentissage automatique est un jeu en deux parties : 1. transformer vos données en un ensemble représentatif de nombres et 2. construire ou choisir un modèle pour apprendre cette représentation aussi précisément que possible]\n",
        "\n",
        "L'apprentissage automatique est un jeu en deux parties :\n",
        "1. Transformer vos données, quelle qu'elles soient, en nombres (une représentation).\n",
        "2. Construire ou choisir un modèle pour apprendre cette représentation aussi précisément que possible.\n",
        "\n",
        "Parfois, ces deux étapes peuvent être réalisées simultanément.\n",
        "\n",
        "Mais que faire si vous n'avez pas de données ?\n",
        "\n",
        "Eh bien, c'est précisément notre situation actuelle.\n",
        "\n",
        "Nous n'avons pas de données.\n",
        "\n",
        "Mais nous pouvons en créer.\n",
        "\n",
        "Nous allons créer nos données sous la forme d'une ligne droite.\n",
        "\n",
        "Nous utiliserons la [régression linéaire](https://fr.wikipedia.org/wiki/R%C3%A9gression_lin%C3%A9aire) pour générer des données avec des **paramètres connus** (des valeurs qui peuvent être apprises par un modèle), puis nous utiliserons PyTorch pour voir si nous pouvons construire un modèle capable d'estimer ces paramètres à l'aide de la [**descente de gradient**](https://fr.wikipedia.org/wiki/Descente_de_gradient).\n",
        "\n",
        "Ne vous inquiétez pas si ces termes vous semblent flous pour l'instant, nous allons les voir en action et je fournirai des ressources supplémentaires pour approfondir ces concepts.\n"
      ]
    },
    {
      "cell_type": "code",
      "execution_count": null,
      "metadata": {
        "colab": {
          "base_uri": "https://localhost:8080/"
        },
        "id": "G7W5qQ_VdIRi",
        "outputId": "74d93c01-fe10-4a13-dbbd-ceaf3b2046bc"
      },
      "outputs": [
        {
          "output_type": "execute_result",
          "data": {
            "text/plain": [
              "(tensor([[0.0000],\n",
              "         [0.0200],\n",
              "         [0.0400],\n",
              "         [0.0600],\n",
              "         [0.0800],\n",
              "         [0.1000],\n",
              "         [0.1200],\n",
              "         [0.1400],\n",
              "         [0.1600],\n",
              "         [0.1800]]),\n",
              " tensor([[0.3000],\n",
              "         [0.3140],\n",
              "         [0.3280],\n",
              "         [0.3420],\n",
              "         [0.3560],\n",
              "         [0.3700],\n",
              "         [0.3840],\n",
              "         [0.3980],\n",
              "         [0.4120],\n",
              "         [0.4260]]))"
            ]
          },
          "metadata": {},
          "execution_count": 35
        }
      ],
      "source": [
        "weight = 0.7\n",
        "bias = 0.3\n",
        "\n",
        "start = 0\n",
        "end= 1\n",
        "step = 0.02\n",
        "X = torch.arange(start,end,step).unsqueeze(dim = 1)\n",
        "Y = weight * X + bias\n",
        "\n",
        "X[:10], Y[:10]"
      ]
    },
    {
      "cell_type": "markdown",
      "metadata": {
        "id": "S-WhlBFddIRi"
      },
      "source": [
        "Magnifique ! Maintenant, nous allons avancer vers la construction d'un modèle capable d'apprendre la relation entre `X` (**caractéristiques**) et `y` (**étiquettes**).\n"
      ]
    },
    {
      "cell_type": "markdown",
      "metadata": {
        "id": "byV7MU_ddIRi"
      },
      "source": [
        "### Diviser les données en ensembles d'entraînement et de test\n",
        "\n",
        "Nous avons maintenant des données.\n",
        "\n",
        "Mais avant de construire un modèle, nous devons les diviser.\n",
        "\n",
        "L'une des étapes les plus importantes d'un projet d'apprentissage automatique est la création d'un ensemble d'entraînement et d'un ensemble de test (et, si nécessaire, un ensemble de validation).\n",
        "\n",
        "Chaque partition des données a un rôle précis :\n",
        "\n",
        "| **Partition** | **Rôle** | **Proportion des données totales** | **Fréquence d'utilisation** |\n",
        "| ----- | ----- | ----- | ----- |\n",
        "| **Ensemble d'entraînement** | Le modèle apprend à partir de ces données (comme les cours que vous étudiez durant le semestre). | ~60-80% | Toujours |\n",
        "| **Ensemble de validation** | Le modèle est ajusté sur ces données (comme un examen blanc avant l'examen final). | ~10-20% | Souvent mais pas toujours |\n",
        "| **Ensemble de test** | Le modèle est évalué sur ces données pour tester ce qu'il a appris (comme l'examen final à la fin du semestre). | ~10-20% | Toujours |\n",
        "\n",
        "Pour l’instant, nous allons nous limiter à un ensemble d'entraînement et un ensemble de test. Cela signifie que nous aurons un ensemble de données sur lequel notre modèle pourra apprendre, ainsi qu'un ensemble pour l'évaluer.\n",
        "\n",
        "Nous pouvons créer ces ensembles en divisant nos tenseurs `X` et `y`.\n",
        "\n",
        "> **Remarque :** Lorsqu'on travaille avec des données du monde réel, cette étape est généralement effectuée dès le début du projet (l'ensemble de test doit toujours être conservé séparé des autres données). Nous voulons que notre modèle apprenne à partir des données d'entraînement et soit ensuite évalué sur des données de test pour mesurer sa capacité à **généraliser** à de nouveaux exemples.\n"
      ]
    },
    {
      "cell_type": "code",
      "execution_count": null,
      "metadata": {
        "colab": {
          "base_uri": "https://localhost:8080/"
        },
        "id": "KeL4DmyIdIRi",
        "outputId": "89c6cc59-5fc1-4815-8203-cfcbee0cbae5"
      },
      "outputs": [
        {
          "output_type": "execute_result",
          "data": {
            "text/plain": [
              "(torch.Size([40, 1]),\n",
              " torch.Size([40, 1]),\n",
              " torch.Size([10, 1]),\n",
              " torch.Size([10, 1]))"
            ]
          },
          "metadata": {},
          "execution_count": 36
        }
      ],
      "source": [
        "division = int( 0.8 * len(X))\n",
        "\n",
        "X_train , y_train = X[:division] , Y[:division]\n",
        "\n",
        "X_test , y_test = X[division:], Y[division:]\n",
        "\n",
        "X_train.shape, y_train.shape, X_test.shape, y_test.shape"
      ]
    },
    {
      "cell_type": "markdown",
      "metadata": {
        "id": "m5HPDUROdIRi"
      },
      "source": [
        "Wonderful, we've got 40 samples for training (`X_train` & `y_train`) and 10 samples for testing (`X_test` & `y_test`).\n",
        "\n",
        "The model we create is going to try and learn the relationship between `X_train` & `y_train` and then we will evaluate what it learns on `X_test` and `y_test`.\n",
        "\n",
        "But right now our data is just numbers on a page.\n",
        "\n",
        "Let's create a function to visualize it."
      ]
    },
    {
      "cell_type": "code",
      "execution_count": null,
      "metadata": {
        "id": "plPM6FfddIRi"
      },
      "outputs": [],
      "source": [
        "def plot_predection(X_train, y_train, X_test, y_test, predictions = None):\n",
        "\n",
        "  plt.figure(figsize = (10,7))\n",
        "\n",
        "  plt.scatter(X_train, y_train, c= \"b\", label =\"training data\")\n",
        "\n",
        "  plt.scatter(X_test, y_test, c=\"g\", label = \"testing data\")\n",
        "\n",
        "  if predictions is not None:\n",
        "    plt.scatter(X_test, predictions, c=\"r\", label =\"predections\")\n"
      ]
    },
    {
      "cell_type": "code",
      "execution_count": null,
      "metadata": {
        "colab": {
          "base_uri": "https://localhost:8080/",
          "height": 599
        },
        "id": "bC-mSP6AdIRj",
        "outputId": "953e4ba4-0c47-4d56-b422-20f54f9545a5"
      },
      "outputs": [
        {
          "output_type": "display_data",
          "data": {
            "text/plain": [
              "<Figure size 1000x700 with 1 Axes>"
            ],
            "image/png": "[encoded data removed]"
          },
          "metadata": {}
        }
      ],
      "source": [
        "plot_predection(X_train, y_train, X_test, y_test)"
      ]
    },
    {
      "cell_type": "markdown",
      "metadata": {
        "id": "ZcKlch3idIRj"
      },
      "source": [
        "Épique !\n",
        "\n",
        "Maintenant, au lieu d'être de simples nombres sur une page, nos données forment une ligne droite.\n",
        "\n",
        "> **Remarque :** C'est le moment idéal pour vous présenter la devise des explorateurs de données...  \n",
        "> **\"Visualiser, visualiser, visualiser !\"**  \n",
        "> Gardez cette idée en tête chaque fois que vous travaillez avec des données et que vous les transformez en nombres.  \n",
        "> Si vous pouvez visualiser quelque chose, cela peut grandement améliorer votre compréhension.  \n",
        ">  \n",
        "> Les machines adorent les nombres, et nous, les humains, les aimons aussi... mais nous aimons aussi voir les choses.\n",
        "\n",
        "---\n",
        "\n",
        "## 2. Construire le modèle\n",
        "\n",
        "Nous avons maintenant des données, alors construisons un modèle capable d'utiliser les points bleus pour prédire les points verts.\n",
        "\n",
        "Nous allons plonger directement dans le code.\n",
        "\n",
        "Nous allons d'abord écrire le code, puis tout expliquer.\n",
        "\n",
        "Reproduisons un modèle de régression linéaire standard en utilisant uniquement PyTorch.\n"
      ]
    },
    {
      "cell_type": "code",
      "execution_count": null,
      "metadata": {
        "id": "_4h1tOQahjMN"
      },
      "outputs": [],
      "source": [
        "class LinearRegressionModel(nn.Module):\n",
        "  def __init__(self):\n",
        "    super().__init__()\n",
        "    self.weights = nn.Parameter(torch.rand(1,requires_grad= True, dtype= torch.float))\n",
        "\n",
        "    self.bias = nn.Parameter(torch.rand(1,requires_grad= True, dtype= torch.float))\n",
        "\n",
        "  def forward(self, X : torch.tensor):\n",
        "      return self.weights *  X + self.bias"
      ]
    },
    {
      "cell_type": "markdown",
      "metadata": {
        "id": "xbIK8sRbdIRj"
      },
      "source": [
        "D'accord, il se passe pas mal de choses ci-dessus, alors décomposons tout étape par étape.\n",
        "\n",
        "> **Ressource :** Nous allons utiliser des classes Python pour créer des composants permettant de construire des réseaux de neurones.  \n",
        "> Si vous n'êtes pas familier avec la notation des classes en Python, je vous recommande de lire plusieurs fois le guide [Programmation orientée objet en Python 3 de Real Python](https://realpython.com/python3-object-oriented-programming/).\n"
      ]
    },
    {
      "cell_type": "markdown",
      "metadata": {
        "id": "1IGBmft8dIRj"
      },
      "source": [
        "### Éléments essentiels pour la construction d'un modèle PyTorch\n",
        "\n",
        "PyTorch dispose de quatre modules essentiels (plus ou moins) qui permettent de créer presque n'importe quel type de réseau de neurones.\n",
        "\n",
        "Ces modules sont [`torch.nn`](https://pytorch.org/docs/stable/nn.html), [`torch.optim`](https://pytorch.org/docs/stable/optim.html), [`torch.utils.data.Dataset`](https://pytorch.org/docs/stable/data.html#torch.utils.data.Dataset) et [`torch.utils.data.DataLoader`](https://pytorch.org/docs/stable/data.html).  \n",
        "Pour l’instant, nous nous concentrerons sur les deux premiers et aborderons les deux autres plus tard (bien que vous puissiez deviner leur utilité).\n",
        "\n",
        "| **Module PyTorch** | **Fonctionnalité** |\n",
        "| ----- | ----- |\n",
        "| [`torch.nn`](https://pytorch.org/docs/stable/nn.html) | Contient tous les éléments nécessaires à la création de graphes computationnels (une série de calculs exécutés d'une manière spécifique). |\n",
        "| [`torch.nn.Parameter`](https://pytorch.org/docs/stable/generated/torch.nn.parameter.Parameter.html#parameter) | Stocke des tenseurs utilisés avec `nn.Module`. Si `requires_grad=True`, les gradients (utilisés pour mettre à jour les paramètres du modèle via la [descente de gradient](https://ml-cheatsheet.readthedocs.io/en/latest/gradient_descent.html)) sont calculés automatiquement, ce qui est souvent appelé \"autograd\". |\n",
        "| [`torch.nn.Module`](https://pytorch.org/docs/stable/generated/torch.nn.Module.html#torch.nn.Module) | Classe de base pour tous les modules de réseau de neurones. Tous les blocs de construction des réseaux de neurones en sont des sous-classes. Si vous construisez un réseau de neurones en PyTorch, vos modèles doivent hériter de `nn.Module` et définir une méthode `forward()`. |\n",
        "| [`torch.optim`](https://pytorch.org/docs/stable/optim.html) | Contient divers algorithmes d'optimisation (ils indiquent aux paramètres stockés dans `nn.Parameter` comment évoluer pour améliorer la descente de gradient et ainsi réduire la perte). |\n",
        "| `def forward()` | Toutes les sous-classes de `nn.Module` doivent définir une méthode `forward()`, qui spécifie les calculs appliqués aux données passées à ce module (exemple : la formule de régression linéaire). |\n",
        "\n",
        "Si cela vous semble complexe, simplifions les choses : presque tout dans un réseau de neurones PyTorch provient de `torch.nn`.\n",
        "\n",
        "- `nn.Module` contient les blocs de construction principaux (les couches).\n",
        "- `nn.Parameter` contient les plus petits paramètres comme les poids et les biais (qui forment des `nn.Module` en étant assemblés).\n",
        "- `forward()` définit comment les blocs effectuent les calculs sur les entrées (tenseurs de données).\n",
        "- `torch.optim` regroupe les méthodes d'optimisation qui ajustent les paramètres de `nn.Parameter` pour mieux représenter les données d'entrée.\n",
        "\n",
        "![Un modèle linéaire PyTorch avec annotations]\n",
        "*Éléments de base pour la création d'un modèle PyTorch en héritant de `nn.Module`. Les objets qui en héritent doivent définir une méthode `forward()`.*\n",
        "\n",
        "> **Ressource :** Découvrez plus de ces modules essentiels et leurs cas d'utilisation dans le [PyTorch Cheat Sheet](https://pytorch.org/tutorials/beginner/ptcheat.html).\n"
      ]
    },
    {
      "cell_type": "markdown",
      "metadata": {
        "id": "4nLWkqtrdIRj"
      },
      "source": [
        "### 🔍 Vérification du contenu du modèle PyTorch\n",
        "\n",
        "Maintenant que nous avons réglé cela, créons une instance du modèle avec la classe que nous avons définie et examinons ses paramètres en utilisant la méthode [.parameters()](https://pytorch.org/docs/stable/generated/torch.nn.Module.html#torch.nn.Module.parameters).\n"
      ]
    },
    {
      "cell_type": "code",
      "execution_count": null,
      "metadata": {
        "colab": {
          "base_uri": "https://localhost:8080/"
        },
        "id": "wzCLPuf_dIRj",
        "outputId": "17260667-4e3e-4f15-ce9a-f77b936a0de4"
      },
      "outputs": [
        {
          "output_type": "execute_result",
          "data": {
            "text/plain": [
              "[Parameter containing:\n",
              " tensor([0.8823], requires_grad=True),\n",
              " Parameter containing:\n",
              " tensor([0.9150], requires_grad=True)]"
            ]
          },
          "metadata": {},
          "execution_count": 40
        }
      ],
      "source": [
        "torch.manual_seed(42)\n",
        "model_0 = LinearRegressionModel()\n",
        "list(model_0.parameters())"
      ]
    },
    {
      "cell_type": "markdown",
      "metadata": {
        "id": "iK05gtA-dIRj"
      },
      "source": [
        "Nous pouvons également obtenir l'état (ce que contient le modèle) en utilisant\n",
        "[`.state_dict()`](https://pytorch.org/docs/stable/generated/torch.nn.Module.html#torch.nn.Module.state_dict).\n"
      ]
    },
    {
      "cell_type": "code",
      "execution_count": null,
      "metadata": {
        "colab": {
          "base_uri": "https://localhost:8080/"
        },
        "id": "v4mVIPu8dIRk",
        "outputId": "f49b67d3-5183-49a6-f641-53364c3c69ab"
      },
      "outputs": [
        {
          "output_type": "execute_result",
          "data": {
            "text/plain": [
              "OrderedDict([('weights', tensor([0.8823])), ('bias', tensor([0.9150]))])"
            ]
          },
          "metadata": {},
          "execution_count": 41
        }
      ],
      "source": [
        "model_0.state_dict()"
      ]
    },
    {
      "cell_type": "markdown",
      "metadata": {
        "id": "VygdMINhdIRk"
      },
      "source": [
        "Remarquez comment les valeurs de `weights` et `bias` dans `model_0.state_dict()` sont des tenseurs de nombres flottants aléatoires ?\n",
        "\n",
        "C'est parce que nous les avons initialisés précédemment en utilisant `torch.randn()`.\n",
        "\n",
        "En gros, nous voulons commencer avec des paramètres aléatoires et amener le modèle à les mettre à jour vers des paramètres qui s'ajustent le mieux à nos données\n",
        "(les valeurs de `weight` et `bias` que nous avons définies lors de la création de notre droite).\n",
        "\n",
        "> **Exercice :** Essayez de modifier la valeur de `torch.manual_seed()` dans la cellule deux niveaux au-dessus et observez ce qui se passe avec les valeurs de poids et de biais.\n",
        "\n",
        "Comme notre modèle démarre avec des valeurs aléatoires, il aura pour l'instant un faible pouvoir prédictif.\n"
      ]
    },
    {
      "cell_type": "markdown",
      "metadata": {
        "id": "dILyRvkcdIRk"
      },
      "source": [
        "### Faire des prédictions avec `torch.inference_mode()`\n",
        "\n",
        "Pour vérifier cela, nous pouvons passer les données de test `X_test` à notre modèle afin de voir à quel point ses prédictions sont proches de `y_test`.\n",
        "\n",
        "Lorsque nous fournissons des données à notre modèle, celles-ci passent par la méthode `forward()` du modèle et génèrent un résultat en suivant le calcul que nous avons défini.\n",
        "\n",
        "Faisons quelques prédictions.\n"
      ]
    },
    {
      "cell_type": "code",
      "execution_count": null,
      "metadata": {
        "colab": {
          "base_uri": "https://localhost:8080/"
        },
        "id": "mu7rXGJrk3V1",
        "outputId": "51d67924-26cc-477c-b87e-27d22a33883d"
      },
      "outputs": [
        {
          "output_type": "execute_result",
          "data": {
            "text/plain": [
              "tensor([[1.6208],\n",
              "        [1.6385],\n",
              "        [1.6561],\n",
              "        [1.6738],\n",
              "        [1.6914],\n",
              "        [1.7090],\n",
              "        [1.7267],\n",
              "        [1.7443],\n",
              "        [1.7620],\n",
              "        [1.7796]])"
            ]
          },
          "metadata": {},
          "execution_count": 42
        }
      ],
      "source": [
        "with torch.inference_mode():\n",
        "  y_preds = model_0(X_test)\n",
        "y_preds"
      ]
    },
    {
      "cell_type": "markdown",
      "metadata": {
        "id": "_7-vHMeIdIRk"
      },
      "source": [
        "\n",
        "\n",
        "Hmm ?\n",
        "\n",
        "Vous avez probablement remarqué que nous avons utilisé [`torch.inference_mode()`](https://pytorch.org/docs/stable/generated/torch.inference_mode.html) en tant que [gestionnaire de contexte](https://realpython.com/python-with-statement/) (c'est ce que signifie `with torch.inference_mode():`) pour effectuer les prédictions.\n",
        "\n",
        "Comme son nom l'indique, `torch.inference_mode()` est utilisé lorsque l'on effectue des inférences (prédictions) avec un modèle.\n",
        "\n",
        "`torch.inference_mode()` désactive plusieurs fonctionnalités (comme le suivi des gradients, qui est essentiel pour l'entraînement mais inutile pour l'inférence) afin d'accélérer les **passes avant** (les données passant par la méthode `forward()`).\n",
        "\n",
        "> **Remarque :** Dans les anciens codes PyTorch, vous pourriez voir `torch.no_grad()` utilisé pour l'inférence. Bien que `torch.inference_mode()` et `torch.no_grad()` aient des fonctionnalités similaires, `torch.inference_mode()` est plus récent, potentiellement plus rapide et recommandé. Voir ce [Tweet de PyTorch](https://twitter.com/PyTorch/status/1437838231505096708?s=20) pour plus de détails.\n",
        "\n",
        "Nous avons effectué quelques prédictions, voyons maintenant à quoi elles ressemblent.\n"
      ]
    },
    {
      "cell_type": "code",
      "execution_count": null,
      "metadata": {
        "colab": {
          "base_uri": "https://localhost:8080/"
        },
        "id": "vx6DK8uWdIRk",
        "outputId": "fac260f1-d3e2-4141-c902-51485bd0fd36"
      },
      "outputs": [
        {
          "output_type": "stream",
          "name": "stdout",
          "text": [
            "X_test = 10\n",
            "y_preds = 10\n"
          ]
        }
      ],
      "source": [
        "print(f\"X_test = {len(X_test)}\")\n",
        "print(f\"y_preds = {len(y_preds)}\")"
      ]
    },
    {
      "cell_type": "markdown",
      "metadata": {
        "id": "hmPYEhl6dIRk"
      },
      "source": [
        "Remarquez comment il y a une valeur de prédiction pour chaque échantillon de test.\n",
        "\n",
        "Cela est dû au type de données que nous utilisons. Pour notre ligne droite, une valeur `X` correspond à une seule valeur `y`.\n",
        "\n",
        "Cependant, les modèles d'apprentissage automatique sont très flexibles. Vous pourriez avoir 100 valeurs `X` correspondant à une, deux, trois ou même dix valeurs `y`. Tout dépend du problème sur lequel vous travaillez.\n",
        "\n",
        "Nos prédictions sont encore simplement des nombres affichés, visualisons-les avec notre fonction `plot_predictions()` que nous avons créée plus haut."
      ]
    },
    {
      "cell_type": "code",
      "execution_count": null,
      "metadata": {
        "colab": {
          "base_uri": "https://localhost:8080/",
          "height": 599
        },
        "id": "QhhIWLP_dIRk",
        "outputId": "1e233f78-0ec1-4dc2-cc70-f3b727c09d1b"
      },
      "outputs": [
        {
          "output_type": "display_data",
          "data": {
            "text/plain": [
              "<Figure size 1000x700 with 1 Axes>"
            ],
            "image/png": "[encoded data removed]"
          },
          "metadata": {}
        }
      ],
      "source": [
        "plot_predection(X_train,y_train,X_test,y_test,y_preds)"
      ]
    },
    {
      "cell_type": "code",
      "execution_count": null,
      "metadata": {
        "colab": {
          "base_uri": "https://localhost:8080/"
        },
        "id": "dFh2k7ltdIRl",
        "outputId": "dbaafc99-f50c-4ee4-ab07-1ec18981c68a"
      },
      "outputs": [
        {
          "output_type": "execute_result",
          "data": {
            "text/plain": [
              "tensor([[-0.7608],\n",
              "        [-0.7645],\n",
              "        [-0.7681],\n",
              "        [-0.7718],\n",
              "        [-0.7754],\n",
              "        [-0.7790],\n",
              "        [-0.7827],\n",
              "        [-0.7863],\n",
              "        [-0.7900],\n",
              "        [-0.7936]])"
            ]
          },
          "metadata": {},
          "execution_count": 45
        }
      ],
      "source": [
        "y_test - y_preds"
      ]
    },
    {
      "cell_type": "markdown",
      "metadata": {
        "id": "ydqP2d-idIRl"
      },
      "source": [
        "### Oups ! Ces prédictions sont mauvaises...\n",
        "\n",
        "Ces résultats ne sont pas surprenants si l'on se rappelle que notre modèle utilise des valeurs de paramètres aléatoires pour faire ses prédictions.\n",
        "\n",
        "Il n'a même pas encore observé les points bleus pour essayer de prédire les points verts.\n",
        "\n",
        "Il est temps de changer cela !\n"
      ]
    },
    {
      "cell_type": "markdown",
      "metadata": {
        "id": "CD4Arz3bdIRl"
      },
      "source": [
        "## 3. Entraîner le modèle\n",
        "\n",
        "Actuellement, notre modèle fait des prédictions en utilisant des paramètres aléatoires pour effectuer ses calculs, il devine essentiellement au hasard.\n",
        "\n",
        "Pour remédier à cela, nous pouvons mettre à jour ses paramètres internes (*weights* et *bias*), que nous avons initialisés aléatoirement avec `nn.Parameter()` et `torch.randn()`, afin qu'ils représentent mieux les données.\n",
        "\n",
        "Nous pourrions coder ces valeurs en dur (puisque nous connaissons les valeurs idéales `weight=0.7` et `bias=0.2`), mais cela ne serait pas très intéressant.\n",
        "\n",
        "La plupart du temps, nous ne connaissons pas les paramètres idéaux d’un modèle.\n",
        "\n",
        "Il est donc bien plus utile de créer un code qui permet au modèle d’apprendre à ajuster ses paramètres tout seul.\n",
        "\n",
        "\n",
        "### Création d'une fonction de perte et d'un optimiseur dans PyTorch\n",
        "\n",
        "Pour permettre à notre modèle de mettre à jour ses paramètres tout seul, nous devons ajouter deux éléments supplémentaires :\n",
        "\n",
        "- Une **fonction de perte** (*loss function*)\n",
        "- Un **optimiseur** (*optimizer*)\n",
        "\n",
        "Leur rôle est le suivant :\n",
        "\n",
        "| Fonction | Rôle | Où la trouver dans PyTorch ? | Exemples courants |\n",
        "|----------|------|-----------------------------|--------------------|\n",
        "| **Fonction de perte** | Mesure à quel point les prédictions du modèle (`y_preds`) sont incorrectes par rapport aux valeurs réelles (`y_test`). Plus la perte est faible, mieux c'est. | [`torch.nn`](https://pytorch.org/docs/stable/nn.html#loss-functions) | Erreur absolue moyenne (MAE) pour les problèmes de régression : [`torch.nn.L1Loss()`](https://pytorch.org/docs/stable/generated/torch.nn.L1Loss.html). Entropie croisée binaire pour la classification binaire : [`torch.nn.BCELoss()`](https://pytorch.org/docs/stable/generated/torch.nn.BCELoss.html). |\n",
        "| **Optimiseur** | Indique au modèle comment mettre à jour ses paramètres internes afin de minimiser la perte. | [`torch.optim`](https://pytorch.org/docs/stable/optim.html) | Descente de gradient stochastique (SGD) : [`torch.optim.SGD()`](https://pytorch.org/docs/stable/generated/torch.optim.SGD.html#torch.optim.SGD). Optimiseur Adam : [`torch.optim.Adam()`](https://pytorch.org/docs/stable/generated/torch.optim.Adam.html#torch.optim.Adam). |\n",
        "\n",
        "Nous allons maintenant créer une fonction de perte et un optimiseur pour améliorer notre modèle.\n",
        "\n",
        "Le choix de la fonction de perte et de l’optimiseur dépend du type de problème à résoudre.\n",
        "\n",
        "Cependant, il existe des valeurs courantes qui fonctionnent bien :\n",
        "\n",
        "- L'optimiseur **SGD** (*Stochastic Gradient Descent*) ou **Adam**.\n",
        "- La fonction de perte **MAE** (*Mean Absolute Error*) pour les problèmes de régression (prédiction d’un nombre).\n",
        "- La fonction de perte **Binary Cross Entropy** pour les problèmes de classification binaire (prédiction d’une catégorie ou d’une autre).\n",
        "\n",
        "Dans notre cas, comme nous essayons de prédire un nombre, nous allons utiliser **MAE** (`torch.nn.L1Loss()`) comme fonction de perte.\n",
        "\n",
        "![Visualisation de la perte MAE](https://raw.githubusercontent.com/mrdbourke/pytorch-deep-learning/main/images/01-mae-loss-annotated.png)\n",
        "*L'erreur absolue moyenne (MAE, dans PyTorch : `torch.nn.L1Loss`) mesure la différence absolue entre deux points (prédictions et valeurs réelles), puis prend la moyenne sur l’ensemble des exemples.*\n",
        "\n",
        "Nous allons utiliser **SGD** avec `torch.optim.SGD(params, lr)`, où :\n",
        "\n",
        "- `params` représente les paramètres du modèle à optimiser (par exemple, les `weights` et `bias` que nous avons initialisés aléatoirement).\n",
        "- `lr` (*learning rate*) est le **taux d’apprentissage**, qui indique la vitesse à laquelle l’optimiseur met à jour les paramètres :\n",
        "  - Une valeur élevée signifie que l’optimiseur effectue de grands ajustements (mais cela peut être trop instable).\n",
        "  - Une valeur faible signifie que l’optimiseur effectue de petits ajustements (mais cela peut être trop lent).\n",
        "  - Le taux d’apprentissage est un **hyperparamètre**, c'est-à-dire un paramètre défini par l'ingénieur en machine learning.\n",
        "  - Les valeurs courantes sont `0.01`, `0.001`, `0.0001`.\n",
        "  - Il est aussi possible d’ajuster dynamiquement le taux d’apprentissage au fil du temps (cela s’appelle le [scheduling du taux d’apprentissage](https://pytorch.org/docs/stable/optim.html#how-to-adjust-learning-rate)).\n",
        "\n",
        "Voyons maintenant tout cela en code !\n"
      ]
    },
    {
      "cell_type": "code",
      "execution_count": null,
      "metadata": {
        "id": "JCex0g3RdIRl"
      },
      "outputs": [],
      "source": [
        "torch.manual_seed(43)\n",
        "model_0 = LinearRegressionModel()\n",
        "loss_fn = nn.L1Loss()\n",
        "optimizer = torch.optim.SGD(params = model_0.parameters(),\n",
        "                            lr = 0.01)"
      ]
    },
    {
      "cell_type": "markdown",
      "metadata": {
        "id": "en6kRJ97dIRl"
      },
      "source": [
        "### Création d'une boucle d'optimisation dans PyTorch\n",
        "\n",
        "Hourra ! Nous avons maintenant une fonction de perte et un optimiseur, il est donc temps de créer une **boucle d'entraînement** (et une **boucle de test**).\n",
        "\n",
        "- La **boucle d'entraînement** permet au modèle de parcourir les données d'entraînement et d'apprendre les relations entre les `features` et les `labels`.\n",
        "- La **boucle de test** permet d'évaluer comment les modèles générés lors de l'entraînement se comportent sur des données inédites (les données de test, que le modèle n'a jamais vues pendant l'entraînement).\n",
        "\n",
        "Ces boucles sont appelées ainsi car nous voulons que notre modèle passe en revue (*loop through*) chaque échantillon de chaque ensemble de données.\n",
        "\n",
        "Pour créer ces boucles, nous allons écrire une boucle `for` en Python, en suivant le thème de la [chanson non officielle de la boucle d'optimisation PyTorch]\n",
        "\n",
        "**Couplet 1**  \n",
        "Passe en avant,  -- for epoch in range(epochs):\n",
        "Calcule la perte,  --\n",
        "On remet à zéro,  \n",
        "On recule un peu !  \n",
        "Pas à pas, l'optimiseur,  \n",
        "Fait bouger les poids,  \n",
        "Youpi ! Ça marche mieux !  \n",
        "C’est parti pour le test ! 🎉\n",
        "\n",
        "**Couplet 2**  \n",
        "Sans les gradients,  \n",
        "On regarde calmement,  \n",
        "La perte descend,  \n",
        "Tout doucement...  \n",
        "Encore un pass,  \n",
        "Et hop ça baisse !  \n",
        "Bravo p’tit réseau,  \n",
        "T’es un héros ! 🦸‍♂️\n",
        "\n",
        "\n",
        "*La chanson non officielle des boucles d'optimisation PyTorch, une manière amusante de retenir les étapes d'une boucle d'entraînement (et de test) dans PyTorch.*\n",
        "\n",
        "Il y aura pas mal de code, mais rien que nous ne puissions gérer !\n"
      ]
    },
    {
      "cell_type": "markdown",
      "metadata": {
        "id": "vkqo4ejSdIRl"
      },
      "source": [
        "### Boucle de test dans PyTorch\n",
        "\n",
        "Quant à la boucle de test (évaluation de notre modèle), les étapes typiques incluent :\n",
        "\n",
        "| Numéro | Nom de l'étape | Rôle | Exemple de code |\n",
        "| ----- | ----- | ----- | ----- |\n",
        "| 1 | Passage avant (*Forward pass*) | Le modèle parcourt toutes les données de test une seule fois en effectuant les calculs définis dans sa fonction `forward()`. | `model(x_test)` |\n",
        "| 2 | Calcul de la perte | Les sorties du modèle (prédictions) sont comparées aux valeurs réelles et évaluées pour mesurer l'erreur. | `loss = loss_fn(y_pred, y_test)` |\n",
        "| 3 | Calcul des métriques d'évaluation (optionnel) | En plus de la valeur de la perte, on peut calculer d'autres métriques comme la précision sur l'ensemble de test. | Fonctions personnalisées |\n",
        "\n",
        "Remarquez que la boucle de test ne contient pas d'étapes de rétropropagation (`loss.backward()`) ni de mise à jour de l'optimiseur (`optimizer.step()`). En effet, aucun paramètre du modèle ne change pendant le test, car ils ont déjà été entraînés. Lors du test, nous nous intéressons uniquement aux résultats du passage avant du modèle.\n",
        "\n",
        "\n",
        "Regroupons tout cela et entraînons notre modèle sur **100 époques** (passages avant à travers les données), en l'évaluant toutes les 10 époques.\n"
      ]
    },
    {
      "cell_type": "code",
      "source": [
        "torch.manual_seed(43)\n",
        "model_0 = LinearRegressionModel()\n",
        "loss_fn = nn.L1Loss()\n",
        "optimizer = torch.optim.SGD(params = model_0.parameters(),\n",
        "                            lr = 0.01)"
      ],
      "metadata": {
        "id": "3TnPHxV55ZYe"
      },
      "execution_count": null,
      "outputs": []
    },
    {
      "cell_type": "code",
      "execution_count": null,
      "metadata": {
        "colab": {
          "base_uri": "https://localhost:8080/"
        },
        "id": "j15GCbHMdIRl",
        "outputId": "7b558161-d49d-4508-d87c-e9701552102b"
      },
      "outputs": [
        {
          "output_type": "stream",
          "name": "stdout",
          "text": [
            "epoch : 0, loss_train : 0.19946113228797913, test_loss: 0.309006005525589\n",
            "epoch : 10, loss_train : 0.08425117284059525, test_loss: 0.17429609596729279\n",
            "epoch : 20, loss_train : 0.0357610359787941, test_loss: 0.0950789824128151\n",
            "epoch : 30, loss_train : 0.030039316043257713, test_loss: 0.07197971642017365\n",
            "epoch : 40, loss_train : 0.026550158858299255, test_loss: 0.06164653226733208\n",
            "epoch : 50, loss_train : 0.02312171831727028, test_loss: 0.05337398126721382\n",
            "epoch : 60, loss_train : 0.01968449354171753, test_loss: 0.045101433992385864\n",
            "epoch : 70, loss_train : 0.016248222440481186, test_loss: 0.037515789270401\n",
            "epoch : 80, loss_train : 0.0128196831792593, test_loss: 0.0292432252317667\n",
            "epoch : 90, loss_train : 0.009380879811942577, test_loss: 0.020970696583390236\n"
          ]
        }
      ],
      "source": [
        "torch.manual_seed(42)\n",
        "\n",
        "epochs = 100\n",
        "\n",
        "train_loss_values = []\n",
        "test_loss_values = []\n",
        "epoch_count = []\n",
        "\n",
        "for epoch in range(epochs):\n",
        "\n",
        "  model_0.train()\n",
        "\n",
        "  y_pred = model_0(X_train)\n",
        "\n",
        "  loss = loss_fn(y_pred, y_train)\n",
        "\n",
        "  optimizer.zero_grad()\n",
        "\n",
        "  loss.backward()\n",
        "\n",
        "  optimizer.step()\n",
        "\n",
        "  model_0.eval()\n",
        "\n",
        "  with torch.inference_mode():\n",
        "    test_pred = model_0(X_test)\n",
        "    loss_test = loss_fn(test_pred,y_test)\n",
        "\n",
        "    train_loss_values.append(loss.detach().numpy())\n",
        "    test_loss_values.append(loss_test.detach().numpy())\n",
        "    epoch_count.append(epoch)\n",
        "\n",
        "    if epoch % 10 == 0:\n",
        "      print(f\"epoch : {epoch}, loss_train : {loss}, test_loss: {loss_test}\")\n"
      ]
    },
    {
      "cell_type": "markdown",
      "metadata": {
        "id": "gbvPea3ndIRm"
      },
      "source": [
        "Oh, regardez ça ! Il semble que notre perte diminue à chaque époque. Traçons-la pour voir l'évolution.\n"
      ]
    },
    {
      "cell_type": "code",
      "execution_count": null,
      "metadata": {
        "colab": {
          "base_uri": "https://localhost:8080/",
          "height": 489
        },
        "id": "RGtJhGlPdIRm",
        "outputId": "7a866361-4b73-45ca-d857-c0f3c5263aa6"
      },
      "outputs": [
        {
          "output_type": "execute_result",
          "data": {
            "text/plain": [
              "<matplotlib.legend.Legend at 0x7d48f3f1f750>"
            ]
          },
          "metadata": {},
          "execution_count": 49
        },
        {
          "output_type": "display_data",
          "data": {
            "text/plain": [
              "<Figure size 640x480 with 1 Axes>"
            ],
            "image/png": "[encoded data removed]"
          },
          "metadata": {}
        }
      ],
      "source": [
        "plt.plot(epoch_count, train_loss_values, label = \"train_loss\")\n",
        "plt.plot(epoch_count, test_loss_values, label = \"test_loss\")\n",
        "plt.title(\"Loss at each epoch\")\n",
        "plt.xlabel(\"Epochs\")\n",
        "plt.ylabel(\"Loss\")\n",
        "plt.legend()"
      ]
    },
    {
      "cell_type": "markdown",
      "metadata": {
        "id": "nxLpC9ubdIRm"
      },
      "source": [
        "Super ! Les **courbes de perte** montrent que la perte diminue au fil du temps. Rappelez-vous, la perte mesure à quel point votre modèle se trompe, donc plus elle est basse, mieux c'est.\n",
        "\n",
        "Mais pourquoi la perte a-t-elle diminué ?\n",
        "\n",
        "Grâce à notre fonction de perte et à notre optimiseur, les paramètres internes du modèle (`weights` et `bias`) ont été mis à jour pour mieux refléter les motifs sous-jacents des données.\n",
        "\n",
        "Inspectons le [`state_dict()`](https://pytorch.org/tutorials/recipes/recipes/what_is_state_dict.html) de notre modèle pour voir à quel point ses valeurs se rapprochent de celles que nous avions initialement définies pour les poids et le biais.\n"
      ]
    },
    {
      "cell_type": "code",
      "execution_count": null,
      "metadata": {
        "colab": {
          "base_uri": "https://localhost:8080/"
        },
        "id": "uC1qmepPdIRm",
        "outputId": "9b315178-f8be-436c-9f55-ed01d0c40810"
      },
      "outputs": [
        {
          "output_type": "execute_result",
          "data": {
            "text/plain": [
              "OrderedDict([('weights', tensor([0.6705])), ('bias', tensor([0.3125]))])"
            ]
          },
          "metadata": {},
          "execution_count": 50
        }
      ],
      "source": [
        "model_0.state_dict()"
      ]
    },
    {
      "cell_type": "markdown",
      "metadata": {
        "id": "3c3ZiVN3dIRm"
      },
      "source": [
        "Wow ! C'est incroyable, n'est-ce pas ?\n",
        "\n",
        "Notre modèle s'est rapproché du calcul des valeurs exactes de `weight` et `bias` (et il pourrait probablement s'en rapprocher encore plus si nous l'entraînions plus longtemps).\n",
        "\n",
        "> **Exercice :** Essayez de changer la valeur de `epochs` à 200. Que se passe-t-il avec les courbes de perte et les paramètres `weights` et `bias` du modèle ?\n",
        "\n",
        "Il est peu probable qu'il les devine *parfaitement* (surtout avec des ensembles de données plus complexes), mais ce n'est pas un problème. Souvent, une approximation proche est suffisante pour obtenir des résultats impressionnants.\n",
        "\n",
        "C'est tout le principe de l'apprentissage automatique et de l'apprentissage profond : **il existe des valeurs idéales qui décrivent nos données**, et plutôt que de les déterminer manuellement, **nous pouvons entraîner un modèle à les trouver automatiquement**.\n",
        "\n",
        "## 4. Faire des prédictions avec un modèle PyTorch entraîné (inférence)\n",
        "\n",
        "Une fois que vous avez entraîné un modèle, vous voudrez probablement faire des prédictions avec.\n",
        "\n",
        "Nous avons déjà eu un aperçu de cela dans le code d'entraînement et de test ci-dessus. Les étapes pour le faire en dehors des boucles d'entraînement/test sont similaires.\n",
        "\n",
        "Voici trois choses importantes à retenir lors de la réalisation de prédictions (également appelée inférence) avec un modèle PyTorch :\n",
        "\n",
        "1. Mettre le modèle en mode évaluation (`model.eval()`).\n",
        "2. Faire les prédictions avec le gestionnaire de contexte du mode inférence (`with torch.inference_mode(): ...`).\n",
        "3. S'assurer que toutes les prédictions sont faites avec des objets sur le même appareil (par exemple, les données et le modèle doivent être sur le GPU uniquement ou sur le CPU uniquement).\n",
        "\n",
        "Les deux premiers points garantissent que tous les calculs et paramètres internes utilisés par PyTorch lors de l'entraînement, mais qui ne sont pas nécessaires pour l'inférence, sont désactivés (ce qui accélère les calculs). Le troisième point permet d'éviter les erreurs dues à des incompatibilités entre les appareils.\n"
      ]
    },
    {
      "cell_type": "code",
      "execution_count": null,
      "metadata": {
        "colab": {
          "base_uri": "https://localhost:8080/"
        },
        "id": "RiOR6BoJdIRm",
        "outputId": "6d0c8fa7-8b57-4713-c510-592ee57b9d0f"
      },
      "outputs": [
        {
          "output_type": "execute_result",
          "data": {
            "text/plain": [
              "tensor([[0.8489],\n",
              "        [0.8623],\n",
              "        [0.8757],\n",
              "        [0.8891],\n",
              "        [0.9025],\n",
              "        [0.9159],\n",
              "        [0.9293],\n",
              "        [0.9427],\n",
              "        [0.9561],\n",
              "        [0.9695]])"
            ]
          },
          "metadata": {},
          "execution_count": 51
        }
      ],
      "source": [
        "# 1. Mettre le modèle en mode évaluation\n",
        "model_0.eval()\n",
        "\n",
        "# 2. Configurer le gestionnaire de contexte pour le mode inférence\n",
        "with torch.inference_mode():\n",
        "  # 3. S'assurer que les calculs sont effectués avec le modèle et les données sur le même appareil\n",
        "  # Dans notre cas, nous n'avons pas encore configuré un code indépendant de l'appareil,\n",
        "  # donc nos données et notre modèle sont par défaut sur le CPU.\n",
        "  # model_0.to(device)\n",
        "  # X_test = X_test.to(device)\n",
        "  y_preds = model_0(X_test)\n",
        "\n",
        "y_preds\n"
      ]
    },
    {
      "cell_type": "code",
      "execution_count": null,
      "metadata": {
        "colab": {
          "base_uri": "https://localhost:8080/",
          "height": 599
        },
        "id": "Ia89Wah6dIRv",
        "outputId": "405488ad-1ea9-42fd-fbbd-e8ec57db7bf2"
      },
      "outputs": [
        {
          "output_type": "display_data",
          "data": {
            "text/plain": [
              "<Figure size 1000x700 with 1 Axes>"
            ],
            "image/png": "[encoded data removed]"
          },
          "metadata": {}
        }
      ],
      "source": [
        "plot_predection(X_train,y_train, X_test, y_test,predictions=y_preds)"
      ]
    },
    {
      "cell_type": "markdown",
      "metadata": {
        "id": "yhzH3UKUdIRv"
      },
      "source": [
        "Woohoo ! Ces points rouges sont bien plus proches qu'avant !  \n",
        "\n",
        "Passons maintenant à la sauvegarde et au rechargement d'un modèle dans PyTorch.\n"
      ]
    },
    {
      "cell_type": "markdown",
      "metadata": {
        "id": "JBvhODcjdIRv"
      },
      "source": [
        "## 5. Sauvegarde et chargement d'un modèle PyTorch\n",
        "\n",
        "Si vous avez entraîné un modèle PyTorch, il y a de fortes chances que vous souhaitiez le sauvegarder et l'exporter ailleurs.\n",
        "\n",
        "Par exemple, vous pourriez l'entraîner sur Google Colab ou sur votre machine locale avec un GPU, puis vouloir l'utiliser dans une application accessible aux autres utilisateurs.\n",
        "\n",
        "Ou bien, vous souhaitez enregistrer votre progression sur un modèle et pouvoir le charger plus tard.\n",
        "\n",
        "Pour sauvegarder et charger des modèles dans PyTorch, voici les trois méthodes principales à connaître (toutes issues du [guide officiel de PyTorch sur la sauvegarde et le chargement des modèles](https://pytorch.org/tutorials/beginner/saving_loading_models.html#saving-loading-model-for-inference)) :\n",
        "\n",
        "| Méthode PyTorch | Description |\n",
        "| ----- | ----- |\n",
        "| [`torch.save`](https://pytorch.org/docs/stable/torch.html?highlight=save#torch.save) | Sauvegarde un objet sérialisé sur le disque en utilisant l’utilitaire [`pickle`](https://docs.python.org/3/library/pickle.html) de Python. Vous pouvez sauvegarder des modèles, des tenseurs et d'autres objets Python comme des dictionnaires avec `torch.save`. |\n",
        "| [`torch.load`](https://pytorch.org/docs/stable/torch.html?highlight=torch%20load#torch.load) | Utilise les fonctionnalités de désérialisation de `pickle` pour charger des fichiers Python sauvegardés (modèles, tenseurs, dictionnaires) en mémoire. Vous pouvez également spécifier sur quel appareil charger l'objet (CPU, GPU, etc.). |\n",
        "| [`torch.nn.Module.load_state_dict`](https://pytorch.org/docs/stable/generated/torch.nn.Module.html?highlight=load_state_dict#torch.nn.Module.load_state_dict) | Charge les paramètres d’un modèle (`model.state_dict()`) en utilisant un objet `state_dict()` sauvegardé. |\n",
        "\n",
        "> **Remarque :** Comme mentionné dans la [documentation Python sur `pickle`](https://docs.python.org/3/library/pickle.html), le module `pickle` **n'est pas sécurisé**. Cela signifie que vous ne devez charger que des données provenant de sources fiables. Cela vaut également pour les modèles PyTorch. Utilisez uniquement des modèles sauvegardés en provenance de sources de confiance.\n",
        "\n",
        "### Sauvegarde d'un `state_dict()` de modèle PyTorch\n",
        "\n",
        "La [méthode recommandée](https://pytorch.org/tutorials/beginner/saving_loading_models.html#saving-loading-model-for-inference) pour sauvegarder et charger un modèle pour l'inférence (faire des prédictions) est de sauvegarder et charger son `state_dict()`.\n",
        "\n",
        "Voyons comment procéder en quelques étapes :\n",
        "\n",
        "1. Créer un répertoire `models` pour sauvegarder les modèles en utilisant le module `pathlib` de Python.\n",
        "2. Définir un chemin de fichier où sauvegarder le modèle.\n",
        "3. Utiliser `torch.save(obj, f)` où `obj` est le `state_dict()` du modèle et `f` est le nom du fichier où enregistrer le modèle.\n",
        "\n",
        "> **Remarque :** Il est courant d'utiliser les extensions `.pt` ou `.pth` pour les fichiers de modèles sauvegardés avec PyTorch, par exemple `saved_model_01.pth`.\n"
      ]
    },
    {
      "cell_type": "code",
      "execution_count": null,
      "metadata": {
        "id": "Wo-UNznMdIRv",
        "colab": {
          "base_uri": "https://localhost:8080/"
        },
        "outputId": "81f0ab6d-86f7-4b88-ae85-e1949076b228"
      },
      "outputs": [
        {
          "output_type": "stream",
          "name": "stdout",
          "text": [
            "Model is saved in :Models/01_COUR_Pytorch_YOUTUBE.pth\n"
          ]
        }
      ],
      "source": [
        "from pathlib import Path\n",
        "\n",
        "MODEL_PATH = Path(\"Models\")\n",
        "\n",
        "MODEL_PATH.mkdir(parents = True, exist_ok = True)\n",
        "\n",
        "MODEL_NAME = \"01_COUR_Pytorch_YOUTUBE.pth\"\n",
        "MODEL_SAVE_PATH = MODEL_PATH / MODEL_NAME\n",
        "\n",
        "print(f\"Model is saved in :{MODEL_SAVE_PATH}\")\n",
        "\n",
        "torch.save(obj = model_0.state_dict(),\n",
        "           f=MODEL_SAVE_PATH)"
      ]
    },
    {
      "cell_type": "markdown",
      "metadata": {
        "id": "jb6sARC5dIRv"
      },
      "source": [
        "### Chargement du `state_dict()` sauvegardé d'un modèle PyTorch\n",
        "\n",
        "Maintenant que nous avons un `state_dict()` de modèle sauvegardé dans `models/01_pytorch_workflow_model_0.pth`, nous pouvons le charger en utilisant `torch.nn.Module.load_state_dict(torch.load(f))` où `f` est le chemin d'accès à notre `state_dict()` de modèle sauvegardé.\n",
        "\n",
        "Pourquoi appeler `torch.load()` à l'intérieur de `torch.nn.Module.load_state_dict()` ?\n",
        "\n",
        "Parce que nous avons seulement sauvegardé le `state_dict()` du modèle, qui est un dictionnaire de paramètres appris, et non le *modèle entier*, nous devons d'abord charger le `state_dict()` avec `torch.load()` et ensuite passer ce `state_dict()` à une nouvelle instance de notre modèle (qui est une sous-classe de `nn.Module`).\n",
        "\n",
        "Pourquoi ne pas sauvegarder le modèle entier ?\n",
        "\n",
        "[Sauvegarder le modèle entier](https://pytorch.org/tutorials/beginner/saving_loading_models.html#save-load-entire-model) plutôt que seulement le `state_dict()` est plus intuitif, cependant, pour citer la documentation PyTorch (italique *ajouté*):\n",
        "\n",
        "> Le désavantage de cette approche *(sauvegarder le modèle entier)* est que les données sérialisées sont liées aux classes spécifiques et à la structure de répertoire exacte utilisée lorsque le modèle est sauvegardé...\n",
        ">\n",
        "> À cause de cela, votre code peut se casser de diverses manières lorsqu'il est utilisé dans d'autres projets ou après des refactorisations.\n",
        "\n",
        "Donc, à la place, nous utilisons la méthode flexible de sauvegarder et charger seulement le `state_dict()`, qui est, encore une fois, fondamentalement un dictionnaire de paramètres du modèle.\n",
        "\n",
        "Testons cela en créant une autre instance de `LinearRegressionModel()`, qui est une sous-classe de `torch.nn.Module` et aura donc la méthode intégrée `load_state_dict()`."
      ]
    },
    {
      "cell_type": "code",
      "execution_count": null,
      "metadata": {
        "id": "cvaDD5-tdIRw",
        "colab": {
          "base_uri": "https://localhost:8080/"
        },
        "outputId": "bd10c4ac-2529-4abd-f1cb-e6e3338d3f3f"
      },
      "outputs": [
        {
          "output_type": "execute_result",
          "data": {
            "text/plain": [
              "<All keys matched successfully>"
            ]
          },
          "metadata": {},
          "execution_count": 67
        }
      ],
      "source": [
        "# Instantiate a new instance of our model (this will be instantiated with random weights)\n",
        "\n",
        "Load_model = LinearRegressionModel()\n",
        "\n",
        "# Load the state_dict of our saved model (this will update the new instance of our model with trained weights)\n",
        "\n",
        "Load_model.load_state_dict(torch.load(MODEL_SAVE_PATH))\n"
      ]
    },
    {
      "cell_type": "markdown",
      "metadata": {
        "id": "PsUVfFG1dIRw"
      },
      "source": [
        "Excellent ! Il semble que les choses correspondent.\n",
        "\n",
        "Maintenant, pour tester notre modèle chargé, effectuons une inférence avec lui (faisons des prédictions) sur les données de test.\n",
        "\n",
        "Vous souvenez-vous des règles pour effectuer une inférence avec les modèles PyTorch ?\n",
        "\n",
        "Si non, voici un rappel :\n",
        "\n",
        "<details>\n",
        "    <summary>Règles d'inférence PyTorch</summary>\n",
        "    <ol>\n",
        "      <li> Mettre le modèle en mode évaluation (<code>model.eval()</code>). </li>\n",
        "      <li> Faire les prédictions en utilisant le gestionnaire de contexte du mode inférence (<code>with torch.inference_mode(): ...</code>). </li>\n",
        "      <li> Toutes les prédictions doivent être faites avec des objets sur le même appareil (par exemple, données et modèle sur GPU seulement ou données et modèle sur CPU seulement).</li>\n",
        "    </ol>\n",
        "</details>"
      ]
    },
    {
      "cell_type": "code",
      "execution_count": null,
      "metadata": {
        "id": "tG_zfKmldIRw"
      },
      "outputs": [],
      "source": [
        "# 1. Put the loaded model into evaluation mode\n",
        "\n",
        "with torch.inference_mode():\n",
        "  load_y_preds = Load_model(X_test)\n",
        "  y_preds = model_0(X_test)\n",
        "\n",
        "# 2. Use the inference mode context manager to make predictions\n"
      ]
    },
    {
      "cell_type": "markdown",
      "metadata": {
        "id": "8JB3v6JadIRw"
      },
      "source": [
        "Maintenant que nous avons fait des prédictions avec le modèle chargé, voyons si elles sont les mêmes que les prédictions précédentes."
      ]
    },
    {
      "cell_type": "code",
      "execution_count": null,
      "metadata": {
        "id": "ChuR35fSdIRw",
        "colab": {
          "base_uri": "https://localhost:8080/"
        },
        "outputId": "739b8c4a-5e3a-47bc-8c2a-fd8e33b599af"
      },
      "outputs": [
        {
          "output_type": "execute_result",
          "data": {
            "text/plain": [
              "tensor([[True],\n",
              "        [True],\n",
              "        [True],\n",
              "        [True],\n",
              "        [True],\n",
              "        [True],\n",
              "        [True],\n",
              "        [True],\n",
              "        [True],\n",
              "        [True]])"
            ]
          },
          "metadata": {},
          "execution_count": 70
        }
      ],
      "source": [
        "# Compare previous model predictions with loaded model predictions (these should be the same)\n",
        "load_y_preds == y_preds"
      ]
    },
    {
      "cell_type": "markdown",
      "metadata": {
        "id": "rErM5rjGdIRw"
      },
      "source": [
        "Super !\n",
        "\n",
        "Il semble que les prédictions du modèle chargé soient les mêmes que les prédictions du modèle précédent (prédictions faites avant la sauvegarde). Cela indique que notre modèle se sauvegarde et se charge comme prévu.\n",
        "\n",
        "> **Note :** Il existe d'autres méthodes pour sauvegarder et charger des modèles PyTorch, mais je les laisserai pour un apprentissage supplémentaire et une lecture plus approfondie. Consultez le [guide PyTorch pour sauvegarder et charger des modèles](https://pytorch.org/tutorials/beginner/saving_loading_models.html#saving-and-loading-models) pour en savoir plus.\n",
        "## 6. Tout mettre ensemble\n",
        "\n",
        "Nous avons couvert pas mal de terrain jusqu'à présent.\n",
        "\n",
        "Mais une fois que vous aurez un peu pratiqué, vous effectuerez les étapes ci-dessus comme si vous dansiez dans la rue.\n",
        "\n",
        "En parlant de pratique, rassemblons tout ce que nous avons fait jusqu'à présent.\n",
        "\n",
        "Sauf que cette fois, nous rendrons notre code indépendant du périphérique (donc s'il y a un GPU disponible, il l'utilisera et sinon, il utilisera le CPU par défaut).\n",
        "\n",
        "Il y aura beaucoup moins de commentaires dans cette section que ci-dessus, car ce que nous allons examiner a déjà été couvert.\n",
        "\n",
        "Nous commencerons par importer les bibliothèques standard dont nous avons besoin.\n",
        "\n",
        "> **Note :** Si vous utilisez Google Colab, pour configurer un GPU, allez dans Exécution -> Modifier le type d'exécution -> Accélérateur matériel -> GPU. Si vous faites cela, le runtime Colab sera réinitialisé et vous perdrez les variables sauvegardées."
      ]
    },
    {
      "cell_type": "code",
      "execution_count": null,
      "metadata": {
        "id": "4oRdldGcdIRw",
        "colab": {
          "base_uri": "https://localhost:8080/",
          "height": 35
        },
        "outputId": "5c86a5a0-a8d0-461a-927e-b546bdeca8b8"
      },
      "outputs": [
        {
          "output_type": "execute_result",
          "data": {
            "text/plain": [
              "'2.6.0+cu124'"
            ],
            "application/vnd.google.colaboratory.intrinsic+json": {
              "type": "string"
            }
          },
          "metadata": {},
          "execution_count": 56
        }
      ],
      "source": [
        "# Import PyTorch and matplotlib\n",
        "import torch\n",
        "from torch import nn # nn contains all of PyTorch's building blocks for neural networks\n",
        "import matplotlib.pyplot as plt\n",
        "\n",
        "# Check PyTorch version\n",
        "torch.__version__"
      ]
    },
    {
      "cell_type": "markdown",
      "metadata": {
        "id": "6wf5CDlvdIRw"
      },
      "source": [
        "Maintenant, commençons à rendre notre code indépendant du périphérique en définissant `device=\"cuda\"` s'il est disponible, sinon, il utilisera `device=\"cpu\"` par défaut."
      ]
    },
    {
      "cell_type": "code",
      "execution_count": null,
      "metadata": {
        "id": "7FS4AEdmdIRw",
        "colab": {
          "base_uri": "https://localhost:8080/"
        },
        "outputId": "506f3c56-a342-47ba-8715-d91afa1fc6ee"
      },
      "outputs": [
        {
          "output_type": "stream",
          "name": "stdout",
          "text": [
            "Using device: cpu\n"
          ]
        }
      ],
      "source": [
        "# Setup device agnostic code\n",
        "device = \"cuda\" if torch.cuda.is_available() else \"cpu\"\n",
        "print(f\"Using device: {device}\")"
      ]
    },
    {
      "cell_type": "markdown",
      "metadata": {
        "id": "ICixUM8KdIRx"
      },
      "source": [
        "Si vous avez accès à un GPU, ce qui précède aurait dû afficher :\n",
        "\n",
        "Using device: cuda"
      ]
    },
    {
      "cell_type": "markdown",
      "metadata": {
        "id": "leJArW8JdIRx"
      },
      "source": [
        "Sinon, vous utiliserez un CPU pour les calculs suivants. C'est suffisant pour notre petit ensemble de données, mais cela prendra plus de temps pour les ensembles de données plus volumineux.\n",
        "### 6.1 Données\n",
        "\n",
        "Créons des données comme avant.\n",
        "\n",
        "Tout d'abord, nous allons coder en dur certaines valeurs de `weight` et `bias`.\n",
        "\n",
        "Ensuite, nous allons créer une plage de nombres entre 0 et 1, ce seront nos valeurs `X`.\n",
        "\n",
        "Enfin, nous utiliserons les valeurs `X`, ainsi que les valeurs `weight` et `bias` pour créer `y` en utilisant la formule de régression linéaire (`y = weight * X + bias`)."
      ]
    },
    {
      "cell_type": "code",
      "execution_count": null,
      "metadata": {
        "id": "mcld3fehdIRx",
        "colab": {
          "base_uri": "https://localhost:8080/"
        },
        "outputId": "b8cc8fd6-15bf-4bde-92a4-c312abb77ed9"
      },
      "outputs": [
        {
          "output_type": "execute_result",
          "data": {
            "text/plain": [
              "(tensor([[0.0000],\n",
              "         [0.0200],\n",
              "         [0.0400],\n",
              "         [0.0600],\n",
              "         [0.0800],\n",
              "         [0.1000],\n",
              "         [0.1200],\n",
              "         [0.1400],\n",
              "         [0.1600],\n",
              "         [0.1800]]),\n",
              " tensor([[0.3000],\n",
              "         [0.3140],\n",
              "         [0.3280],\n",
              "         [0.3420],\n",
              "         [0.3560],\n",
              "         [0.3700],\n",
              "         [0.3840],\n",
              "         [0.3980],\n",
              "         [0.4120],\n",
              "         [0.4260]]))"
            ]
          },
          "metadata": {},
          "execution_count": 58
        }
      ],
      "source": [
        "# Create weight and bias\n",
        "weight = 0.7\n",
        "bias = 0.3\n",
        "\n",
        "# Create range values\n",
        "start = 0\n",
        "end = 1\n",
        "step = 0.02\n",
        "\n",
        "# Create X and y (features and labels)\n",
        "X = torch.arange(start, end, step).unsqueeze(dim=1) # without unsqueeze, errors will happen later on (shapes within linear layers)\n",
        "y = weight * X + bias\n",
        "X[:10], y[:10]"
      ]
    },
    {
      "cell_type": "markdown",
      "metadata": {
        "id": "VtyYAO_UdIRx"
      },
      "source": [
        "Magnifique !\n",
        "\n",
        "Maintenant que nous avons des données, divisons-les en ensembles d'entraînement et de test.\n",
        "\n",
        "Nous utiliserons une division 80/20 avec 80 % de données d'entraînement et 20 % de données de test."
      ]
    },
    {
      "cell_type": "code",
      "execution_count": null,
      "metadata": {
        "id": "PaY9NrFvdIRx",
        "colab": {
          "base_uri": "https://localhost:8080/"
        },
        "outputId": "d08f91a1-f8d0-464c-a0e2-6999aaa7200b"
      },
      "outputs": [
        {
          "output_type": "execute_result",
          "data": {
            "text/plain": [
              "(40, 40, 10, 10)"
            ]
          },
          "metadata": {},
          "execution_count": 59
        }
      ],
      "source": [
        "# Split data\n",
        "train_split = int(0.8 * len(X))\n",
        "X_train, y_train = X[:train_split], y[:train_split]\n",
        "X_test, y_test = X[train_split:], y[train_split:]\n",
        "\n",
        "len(X_train), len(y_train), len(X_test), len(y_test)"
      ]
    },
    {
      "cell_type": "markdown",
      "metadata": {
        "id": "0ElRb44QdIRx"
      },
      "source": [
        "Excellent, visualisons-les pour nous assurer qu'elles sont correctes."
      ]
    },
    {
      "cell_type": "code",
      "execution_count": null,
      "metadata": {
        "id": "wDZmofK0dIRx",
        "colab": {
          "base_uri": "https://localhost:8080/",
          "height": 176
        },
        "outputId": "fd268ed0-03d5-432c-ed0a-6af8db096f50"
      },
      "outputs": [
        {
          "output_type": "error",
          "ename": "NameError",
          "evalue": "name 'plot_predictions' is not defined",
          "traceback": [
            "\u001b[0;31m---------------------------------------------------------------------------\u001b[0m",
            "\u001b[0;31mNameError\u001b[0m                                 Traceback (most recent call last)",
            "\u001b[0;32m<ipython-input-60-c93c00b871a4>\u001b[0m in \u001b[0;36m<cell line: 0>\u001b[0;34m()\u001b[0m\n\u001b[1;32m      1\u001b[0m \u001b[0;31m# Note: If you've reset your runtime, this function won't work,\u001b[0m\u001b[0;34m\u001b[0m\u001b[0;34m\u001b[0m\u001b[0m\n\u001b[1;32m      2\u001b[0m \u001b[0;31m# you'll have to rerun the cell above where it's instantiated.\u001b[0m\u001b[0;34m\u001b[0m\u001b[0;34m\u001b[0m\u001b[0m\n\u001b[0;32m----> 3\u001b[0;31m \u001b[0mplot_predictions\u001b[0m\u001b[0;34m(\u001b[0m\u001b[0mX_train\u001b[0m\u001b[0;34m,\u001b[0m \u001b[0my_train\u001b[0m\u001b[0;34m,\u001b[0m \u001b[0mX_test\u001b[0m\u001b[0;34m,\u001b[0m \u001b[0my_test\u001b[0m\u001b[0;34m)\u001b[0m\u001b[0;34m\u001b[0m\u001b[0;34m\u001b[0m\u001b[0m\n\u001b[0m",
            "\u001b[0;31mNameError\u001b[0m: name 'plot_predictions' is not defined"
          ]
        }
      ],
      "source": [
        "# Note: If you've reset your runtime, this function won't work,\n",
        "# you'll have to rerun the cell above where it's instantiated.\n",
        "plot_predictions(X_train, y_train, X_test, y_test)"
      ]
    },
    {
      "cell_type": "markdown",
      "metadata": {
        "id": "6uouu2pzdIRy"
      },
      "source": [
        "### 6.2 Construction d'un modèle linéaire PyTorch\n",
        "\n",
        "Nous avons des données, il est maintenant temps de créer un modèle.\n",
        "\n",
        "Nous allons créer le même style de modèle qu'avant, sauf que cette fois, au lieu de définir manuellement les paramètres de poids et de biais de notre modèle en utilisant `nn.Parameter()`, nous utiliserons [`nn.Linear(in_features, out_features)`](https://pytorch.org/docs/stable/generated/torch.nn.Linear.html) pour le faire pour nous.\n",
        "\n",
        "Où `in_features` est le nombre de dimensions de vos données d'entrée et `out_features` est le nombre de dimensions que vous souhaitez obtenir en sortie.\n",
        "\n",
        "Dans notre cas, les deux sont `1` car nos données ont `1` caractéristique d'entrée (`X`) par étiquette (`y`).\n",
        "\n",
        "![comparaison du modèle de régression linéaire nn.Parameter et du modèle de régression linéaire nn.Linear](https://raw.githubusercontent.com/mrdbourke/pytorch-deep-learning/main/images/01-pytorch-linear-regression-model-with-nn-Parameter-and-nn-Linear-compared.png)\n",
        "*Création d'un modèle de régression linéaire en utilisant `nn.Parameter` par rapport à l'utilisation de `nn.Linear`. Il existe de nombreux autres exemples où le module `torch.nn` a des calculs pré-construits, y compris de nombreuses couches de réseaux neuronaux populaires et utiles.*"
      ]
    },
    {
      "cell_type": "code",
      "execution_count": null,
      "metadata": {
        "id": "DIrl9vQ7dIRy"
      },
      "outputs": [],
      "source": [
        "# Subclass nn.Module to make our model\n",
        "class LinearRegressionModelV2(nn.Module):\n",
        "    def __init__(self):\n",
        "        super().__init__()\n",
        "        # Use nn.Linear() for creating the model parameters\n",
        "        self.linear_layer = nn.Linear(in_features=1,\n",
        "                                      out_features=1)\n",
        "\n",
        "    # Define the forward computation (input data x flows through nn.Linear())\n",
        "    def forward(self, x: torch.Tensor) -> torch.Tensor:\n",
        "        return self.linear_layer(x)\n",
        "\n",
        "# Set the manual seed when creating the model (this isn't always needed but is used for demonstrative purposes, try commenting it out and seeing what happens)\n",
        "torch.manual_seed(42)\n",
        "model_1 = LinearRegressionModelV2()\n",
        "model_1, model_1.state_dict()"
      ]
    },
    {
      "cell_type": "markdown",
      "metadata": {
        "id": "4jMDZuVSdIRy"
      },
      "source": [
        "Remarquez les sorties de `model_1.state_dict()`, la couche `nn.Linear()` a créé un paramètre `weight` et `bias` aléatoire pour nous.\n",
        "\n",
        "Maintenant, mettons notre modèle sur le GPU (s'il est disponible).\n",
        "\n",
        "Nous pouvons changer le périphérique sur lequel nos objets PyTorch se trouvent en utilisant `.to(device)`.\n",
        "\n",
        "Vérifions d'abord le périphérique actuel du modèle."
      ]
    },
    {
      "cell_type": "code",
      "execution_count": null,
      "metadata": {
        "id": "HF2DrN0GdIRy"
      },
      "outputs": [],
      "source": [
        "# Check model device\n",
        "next(model_1.parameters()).device"
      ]
    },
    {
      "cell_type": "markdown",
      "metadata": {
        "id": "SPk_bsEqdIRy"
      },
      "source": [
        "Magnifique, il semble que le modèle soit sur le CPU par défaut.\n",
        "\n",
        "Changeons-le pour qu'il soit sur le GPU (s'il est disponible)."
      ]
    },
    {
      "cell_type": "code",
      "execution_count": null,
      "metadata": {
        "id": "jBmVYscmdIRz"
      },
      "outputs": [],
      "source": [
        "# Set model to GPU if it's available, otherwise it'll default to CPU\n",
        "model_1.to(device) # the device variable was set above to be \"cuda\" if available or \"cpu\" if not\n",
        "next(model_1.parameters()).device"
      ]
    },
    {
      "cell_type": "markdown",
      "metadata": {
        "id": "gLGSy-q7dIRz"
      },
      "source": [
        "Super ! Grâce à notre code indépendant du périphérique, la cellule ci-dessus fonctionnera que le GPU soit disponible ou non.\n",
        "\n",
        "Si vous avez accès à un GPU compatible CUDA, vous devriez voir une sortie ressemblant à ceci :\n",
        "\n",
        "device(type='cuda', index=0)\n",
        "### 6.3 Entraînement\n",
        "Il est temps de construire une boucle d'entraînement et de test.\n",
        "\n",
        "Nous aurons d'abord besoin d'une fonction de perte et d'un optimiseur.\n",
        "\n",
        "Utilisons les mêmes fonctions que précédemment, `nn.L1Loss()` et `torch.optim.SGD()`.\n",
        "\n",
        "Nous devrons passer les paramètres du nouveau modèle (`model.parameters()`) à l'optimiseur pour qu'il les ajuste pendant l'entraînement.\n",
        "\n",
        "Le taux d'apprentissage de `0.01` a bien fonctionné auparavant, alors réutilisons-le."
      ]
    },
    {
      "cell_type": "code",
      "execution_count": null,
      "metadata": {
        "id": "5SCfqGPVdIRz"
      },
      "outputs": [],
      "source": [
        "# Create loss function\n",
        "loss_fn = nn.L1Loss()\n",
        "\n",
        "# Create optimizer\n",
        "optimizer = torch.optim.SGD(params=model_1.parameters(), # optimize newly created model's parameters\n",
        "                            lr=0.01)"
      ]
    },
    {
      "cell_type": "markdown",
      "metadata": {
        "id": "l5k3byPNdIRz"
      },
      "source": [
        "Magnifique, la fonction de perte et l'optimiseur sont prêts, entraînons et évaluons maintenant notre modèle en utilisant une boucle d'entraînement et de test.\n",
        "\n",
        "La seule chose différente que nous allons faire dans cette étape par rapport à la boucle d'entraînement précédente est de mettre les données sur le `device` cible.\n",
        "\n",
        "Nous avons déjà mis notre modèle sur le `device` cible en utilisant `model_1.to(device)`.\n",
        "\n",
        "Et nous pouvons faire de même avec les données.\n",
        "\n",
        "De cette façon, si le modèle est sur le GPU, les données sont sur le GPU (et vice versa).\n",
        "\n",
        "Passons à la vitesse supérieure cette fois et définissons `epochs=1000`.\n",
        "\n",
        "Si vous avez besoin d'un rappel des étapes de la boucle d'entraînement PyTorch, voir ci-dessous.\n",
        "\n",
        "<details>\n",
        "    <summary>Étapes de la boucle d'entraînement PyTorch</summary>\n",
        "    <ol>\n",
        "        <li><b>Passe avant</b> - Le modèle parcourt toutes les données d'entraînement une fois, en effectuant ses\n",
        "            calculs de la fonction <code>forward()</code>\n",
        "            (<code>model(x_train)</code>).\n",
        "        </li>\n",
        "        <li><b>Calculer la perte</b> - Les sorties du modèle (prédictions) sont comparées à la vérité terrain et évaluées\n",
        "            pour voir à quel point\n",
        "            elles sont erronées (<code>loss = loss_fn(y_pred, y_train</code>).</li>\n",
        "        <li><b>Zéro gradients</b> - Les gradients des optimiseurs sont mis à zéro (ils sont accumulés par défaut) afin qu'ils\n",
        "            puissent être\n",
        "            recalculés pour l'étape d'entraînement spécifique (<code>optimizer.zero_grad()</code>).</li>\n",
        "        <li><b>Effectuer une rétropropagation sur la perte</b> - Calcule le gradient de la perte par rapport à chaque paramètre du modèle\n",
        "            à mettre à jour (chaque paramètre\n",
        "            avec <code>requires_grad=True</code>). C'est ce qu'on appelle la <b>rétropropagation</b>, d'où \"rétro\"\n",
        "            (<code>loss.backward()</code>).</li>\n",
        "        <li><b>Étape de l'optimiseur (descente de gradient)</b> - Met à jour les paramètres avec <code>requires_grad=True</code>\n",
        "            par rapport aux gradients de perte\n",
        "            afin de les améliorer (<code>optimizer.step()</code>).</li>\n",
        "    </ol>\n",
        "</details>"
      ]
    },
    {
      "cell_type": "code",
      "execution_count": null,
      "metadata": {
        "id": "sw0c9wZadIRz"
      },
      "outputs": [],
      "source": [
        "torch.manual_seed(42)\n",
        "\n",
        "# Set the number of epochs\n",
        "epochs = 1000\n",
        "\n",
        "# Put data on the available device\n",
        "# Without this, error will happen (not all model/data on device)\n",
        "X_train = X_train.to(device)\n",
        "X_test = X_test.to(device)\n",
        "y_train = y_train.to(device)\n",
        "y_test = y_test.to(device)\n",
        "\n",
        "for epoch in range(epochs):\n",
        "    ### Training\n",
        "    model_1.train() # train mode is on by default after construction\n",
        "\n",
        "    # 1. Forward pass\n",
        "    y_pred = model_1(X_train)\n",
        "\n",
        "    # 2. Calculate loss\n",
        "    loss = loss_fn(y_pred, y_train)\n",
        "\n",
        "    # 3. Zero grad optimizer\n",
        "    optimizer.zero_grad()\n",
        "\n",
        "    # 4. Loss backward\n",
        "    loss.backward()\n",
        "\n",
        "    # 5. Step the optimizer\n",
        "    optimizer.step()\n",
        "\n",
        "    ### Testing\n",
        "    model_1.eval() # put the model in evaluation mode for testing (inference)\n",
        "    # 1. Forward pass\n",
        "    with torch.inference_mode():\n",
        "        test_pred = model_1(X_test)\n",
        "\n",
        "        # 2. Calculate the loss\n",
        "        test_loss = loss_fn(test_pred, y_test)\n",
        "\n",
        "    if epoch % 100 == 0:\n",
        "        print(f\"Epoch: {epoch} | Train loss: {loss} | Test loss: {test_loss}\")"
      ]
    },
    {
      "cell_type": "markdown",
      "metadata": {
        "id": "t3MCKrGpdIRz"
      },
      "source": [
        "> **Note :** En raison de la nature aléatoire de l'apprentissage automatique, vous obtiendrez probablement des résultats légèrement différents (différentes valeurs de perte et de prédiction) selon que votre modèle a été entraîné sur CPU ou GPU. Ceci est vrai même si vous utilisez la même graine aléatoire sur les deux périphériques. Si la différence est importante, vous voudrez peut-être rechercher des erreurs, cependant, si elle est faible (idéalement, elle l'est), vous pouvez l'ignorer.\n",
        "\n",
        "Super ! Cette perte semble assez faible.\n",
        "\n",
        "Vérifions les paramètres que notre modèle a appris et comparons-les aux paramètres originaux que nous avons codés en dur."
      ]
    },
    {
      "cell_type": "code",
      "execution_count": null,
      "metadata": {
        "id": "H4TkQcZIdIR0"
      },
      "outputs": [],
      "source": [
        "# Find our model's learned parameters\n",
        "from pprint import pprint # pprint = pretty print, see: https://docs.python.org/3/library/pprint.html\n",
        "print(\"The model learned the following values for weights and bias:\")\n",
        "pprint(model_1.state_dict())\n",
        "print(\"\\nAnd the original values for weights and bias are:\")\n",
        "print(f\"weights: {weight}, bias: {bias}\")"
      ]
    },
    {
      "cell_type": "markdown",
      "metadata": {
        "id": "cm0U_0TydIR0"
      },
      "source": [
        "Ho ho ! C'est vraiment très proche d'un modèle parfait.\n",
        "\n",
        "Rappelez-vous cependant, en pratique, il est rare que vous connaissiez les paramètres parfaits à l'avance.\n",
        "\n",
        "Et si vous connaissiez les paramètres que votre modèle devait apprendre à l'avance, quel serait l'intérêt de l'apprentissage automatique ?\n",
        "\n",
        "De plus, dans de nombreux problèmes d'apprentissage automatique du monde réel, le nombre de paramètres peut largement dépasser des dizaines de millions.\n",
        "\n",
        "Je ne sais pas pour vous, mais je préférerais écrire du code pour qu'un ordinateur trouve ces paramètres plutôt que de le faire à la main.\n",
        "### 6.4 Faire des prédictions\n",
        "\n",
        "Maintenant que nous avons un modèle entraîné, activons son mode d'évaluation et faisons quelques prédictions."
      ]
    },
    {
      "cell_type": "code",
      "execution_count": null,
      "metadata": {
        "id": "AdnyAo4AdIR0"
      },
      "outputs": [],
      "source": [
        "# Turn model into evaluation mode\n",
        "model_1.eval()\n",
        "\n",
        "# Make predictions on the test data\n",
        "with torch.inference_mode():\n",
        "    y_preds = model_1(X_test)\n",
        "y_preds"
      ]
    },
    {
      "cell_type": "markdown",
      "metadata": {
        "id": "oD9eLZGTdIR0"
      },
      "source": [
        "Si vous faites des prédictions avec des données sur le GPU, vous remarquerez peut-être que la sortie ci-dessus a `device='cuda:0'` vers la fin. Cela signifie que les données sont sur le périphérique CUDA 0 (le premier GPU auquel votre système a accès en raison de l'indexation à zéro), si vous finissez par utiliser plusieurs GPU à l'avenir, ce nombre peut être plus élevé.\n",
        "\n",
        "Maintenant, traçons les prédictions de notre modèle.\n",
        "\n",
        "> **Note :** De nombreuses bibliothèques de science des données telles que pandas, matplotlib et NumPy ne sont pas capables d'utiliser des données stockées sur le GPU. Vous pourriez donc rencontrer des problèmes lorsque vous essayez d'utiliser une fonction de l'une de ces bibliothèques avec des données tensor non stockées sur le CPU. Pour résoudre ce problème, vous pouvez appeler [`.cpu()`](https://pytorch.org/docs/stable/generated/torch.Tensor.cpu.html) sur votre tenseur cible pour retourner une copie de votre tenseur cible sur le CPU."
      ]
    },
    {
      "cell_type": "code",
      "execution_count": null,
      "metadata": {
        "id": "tx43p2C_dIR0"
      },
      "outputs": [],
      "source": [
        "# plot_predictions(predictions=y_preds) # -> won't work... data not on CPU\n",
        "\n",
        "# Put data on the CPU and plot it\n",
        "plot_predictions(predictions=y_preds.cpu())"
      ]
    },
    {
      "cell_type": "markdown",
      "metadata": {
        "id": "TtHzhW1NdIR0"
      },
      "source": [
        "Ouah ! Regardez ces points rouges, ils s'alignent presque parfaitement avec les points verts. Je suppose que les epochs supplémentaires ont aidé.\n",
        "\n",
        "### 6.5 Sauvegarde et chargement d'un modèle\n",
        "\n",
        "Nous sommes satisfaits des prédictions de nos modèles, alors sauvegardons-le dans un fichier afin qu'il puisse être utilisé ultérieurement."
      ]
    },
    {
      "cell_type": "code",
      "execution_count": null,
      "metadata": {
        "id": "6yFh8pWPdIR0"
      },
      "outputs": [],
      "source": [
        "from pathlib import Path\n",
        "\n",
        "# 1. Create models directory\n",
        "MODEL_PATH = Path(\"models\")\n",
        "MODEL_PATH.mkdir(parents=True, exist_ok=True)\n",
        "\n",
        "# 2. Create model save path\n",
        "MODEL_NAME = \"01_pytorch_workflow_model_1.pth\"\n",
        "MODEL_SAVE_PATH = MODEL_PATH / MODEL_NAME\n",
        "\n",
        "# 3. Save the model state dict\n",
        "print(f\"Saving model to: {MODEL_SAVE_PATH}\")\n",
        "torch.save(obj=model_1.state_dict(), # only saving the state_dict() only saves the models learned parameters\n",
        "           f=MODEL_SAVE_PATH)"
      ]
    },
    {
      "cell_type": "markdown",
      "metadata": {
        "id": "ZsSKHFY-dIR1"
      },
      "source": [
        "Et juste pour s'assurer que tout a bien fonctionné, rechargeons-le.\n",
        "\n",
        "Nous allons :\n",
        "* Créer une nouvelle instance de la classe `LinearRegressionModelV2()`\n",
        "* Charger le dictionnaire d'état du modèle en utilisant `torch.nn.Module.load_state_dict()`\n",
        "* Envoyer la nouvelle instance du modèle vers le périphérique cible (pour s'assurer que notre code est indépendant du périphérique)"
      ]
    },
    {
      "cell_type": "code",
      "execution_count": null,
      "metadata": {
        "id": "RluTAWm4dIR1"
      },
      "outputs": [],
      "source": [
        "# Instantiate a fresh instance of LinearRegressionModelV2\n",
        "loaded_model_1 = LinearRegressionModelV2()\n",
        "\n",
        "# Load model state dict\n",
        "loaded_model_1.load_state_dict(torch.load(MODEL_SAVE_PATH))\n",
        "\n",
        "# Put model to target device (if your data is on GPU, model will have to be on GPU to make predictions)\n",
        "loaded_model_1.to(device)\n",
        "\n",
        "print(f\"Loaded model:\\n{loaded_model_1}\")\n",
        "print(f\"Model on device:\\n{next(loaded_model_1.parameters()).device}\")"
      ]
    },
    {
      "cell_type": "markdown",
      "metadata": {
        "id": "eajzqk63dIR1"
      },
      "source": [
        "Maintenant, nous pouvons évaluer le modèle chargé pour voir si ses prédictions correspondent aux prédictions faites avant la sauvegarde."
      ]
    },
    {
      "cell_type": "code",
      "execution_count": null,
      "metadata": {
        "id": "sLic6l8xdIR1"
      },
      "outputs": [],
      "source": [
        "# Evaluate loaded model\n",
        "loaded_model_1.eval()\n",
        "with torch.inference_mode():\n",
        "    loaded_model_1_preds = loaded_model_1(X_test)\n",
        "y_preds == loaded_model_1_preds"
      ]
    },
    {
      "cell_type": "markdown",
      "metadata": {
        "id": "mboF3ydfdIR1"
      },
      "source": [
        "Tout s'additionne ! Super !\n",
        "\n",
        "Eh bien, nous avons fait beaucoup de chemin. Vous avez maintenant construit et entraîné vos deux premiers modèles de réseaux neuronaux dans PyTorch !\n",
        "\n",
        "Il est temps de mettre vos compétences en pratique."
      ]
    },
    {
      "cell_type": "markdown",
      "metadata": {
        "id": "lvOKVoq7dIR1"
      },
      "source": [
        "## Exercices\n",
        "\n",
        "Tous les exercices ont été inspirés du code présent dans ce notebook.\n",
        "\n",
        "Il y a un exercice par section principale.\n",
        "\n",
        "Vous devriez être capable de les réaliser en vous référant à leur section spécifique.\n",
        "\n",
        "> **Note :** Pour tous les exercices, votre code doit être indépendant du périphérique (ce qui signifie qu'il pourrait fonctionner sur CPU ou GPU si disponible).\n",
        "\n",
        "1. Créez un ensemble de données en ligne droite en utilisant la formule de régression linéaire (`weight * X + bias`).\n",
        "  * Définissez `weight=0.3` et `bias=0.9`, il devrait y avoir au moins 100 points de données au total.\n",
        "  * Divisez les données en 80 % d'entraînement et 20 % de test.\n",
        "  * Tracez les données d'entraînement et de test afin de les visualiser.\n",
        "2. Construisez un modèle PyTorch en sous-classant `nn.Module`.\n",
        "  * À l'intérieur, il devrait y avoir un `nn.Parameter()` initialisé aléatoirement avec `requires_grad=True`, un pour les `weights` et un pour le `bias`.\n",
        "  * Implémentez la méthode `forward()` pour calculer la fonction de régression linéaire que vous avez utilisée pour créer l'ensemble de données en 1.\n",
        "  * Une fois que vous avez construit le modèle, créez-en une instance et vérifiez son `state_dict()`.\n",
        "  * **Note :** Si vous souhaitez utiliser `nn.Linear()` au lieu de `nn.Parameter()`, vous pouvez le faire.\n",
        "3. Créez une fonction de perte et un optimiseur en utilisant respectivement `nn.L1Loss()` et `torch.optim.SGD(params, lr)`.\n",
        "  * Définissez le taux d'apprentissage de l'optimiseur à 0.01 et les paramètres à optimiser doivent être les paramètres du modèle que vous avez créé en 2.\n",
        "  * Écrivez une boucle d'entraînement pour effectuer les étapes d'entraînement appropriées pendant 300 epochs.\n",
        "  * La boucle d'entraînement doit tester le modèle sur l'ensemble de données de test toutes les 20 epochs.\n",
        "4. Faites des prédictions avec le modèle entraîné sur les données de test.\n",
        "  * Visualisez ces prédictions par rapport aux données d'entraînement et de test originales (**note :** vous devrez peut-être vous assurer que les prédictions ne sont *pas* sur le GPU si vous voulez utiliser des bibliothèques non compatibles CUDA telles que matplotlib pour tracer).\n",
        "5. Sauvegardez le `state_dict()` de votre modèle entraîné dans un fichier.\n",
        "  * Créez une nouvelle instance de la classe de votre modèle que vous avez créée en 2 et chargez-y le `state_dict()` que vous venez de sauvegarder.\n",
        "  * Effectuez des prédictions sur vos données de test avec le modèle chargé et confirmez qu'elles correspondent aux prédictions du modèle original de l'étape 4.\n",
        "\n",
        "> **Ressource :** Consultez les [modèles de notebooks d'exercices](https://github.com/mrdbourke/pytorch-deep-learning/tree/main/extras/exercises) et les [solutions](https://github.com/mrdbourke/pytorch-deep-learning/tree/main/extras/solutions) sur le GitHub du cours.\n",
        "\n",
        "## Pour aller plus loin\n",
        "* Écoutez [The Unofficial PyTorch Optimization Loop Song](https://youtu.be/Nutpusq_AFw) (pour vous aider à vous souvenir des étapes d'une boucle d'entraînement/test PyTorch).\n",
        "* Lisez [What is `torch.nn`, really?](https://pytorch.org/tutorials/beginner/nn_tutorial.html) de Jeremy Howard pour une compréhension plus approfondie du fonctionnement de l'un des modules les plus importants de PyTorch.\n",
        "* Passez 10 minutes à parcourir et à consulter l'[antisèche de la documentation PyTorch](https://pytorch.org/tutorials/beginner/ptcheat.html) pour tous les différents modules PyTorch que vous pourriez rencontrer.\n",
        "* Passez 10 minutes à lire la [documentation sur le chargement et la sauvegarde sur le site web de PyTorch](https://pytorch.org/tutorials/beginner/saving_loading_models.html) pour vous familiariser avec les différentes options de sauvegarde et de chargement dans PyTorch.\n",
        "* Passez 1 à 2 heures à lire/regarder ce qui suit pour un aperçu du fonctionnement interne de la descente de gradient et de la rétropropagation, les deux principaux algorithmes qui ont fonctionné en arrière-plan pour aider notre modèle à apprendre.\n",
        " * [Page Wikipédia pour la descente de gradient](https://en.wikipedia.org/wiki/Gradient_descent)\n",
        " * [Gradient Descent Algorithm — a deep dive](https://towardsdatascience.com/gradient-descent-algorithm-a-deep-dive-cf04e8115f21) par Robert Kwiatkowski\n",
        " * [Gradient descent, how neural networks learn video](https://youtu.be/IHZwWFHWa-w) par 3Blue1Brown\n",
        " * [What is backpropagation really doing?](https://youtu.be/Ilg3gGewQ5U) vidéo par 3Blue1Brown\n",
        " * [Page Wikipédia sur la rétropropagation](https://en.wikipedia.org/wiki/Backpropagation)"
      ]
    }
  ],
  "metadata": {
    "colab": {
      "provenance": []
    },
    "kernelspec": {
      "display_name": "Python 3",
      "language": "python",
      "name": "python3"
    },
    "language_info": {
      "codemirror_mode": {
        "name": "ipython",
        "version": 3
      },
      "file_extension": ".py",
      "mimetype": "text/x-python",
      "name": "python",
      "nbconvert_exporter": "python",
      "pygments_lexer": "ipython3",
      "version": "3.10.0"
    }
  },
  "nbformat": 4,
  "nbformat_minor": 0
}